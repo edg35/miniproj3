{
 "cells": [
  {
   "cell_type": "code",
   "execution_count": null,
   "metadata": {},
   "outputs": [],
   "source": []
  },
  {
   "cell_type": "markdown",
   "metadata": {},
   "source": [
    "## Mini Project 3 Part A\n",
    "\n",
    "## SQL Movie Database for Movie Popularity Analysis\n",
    "\n",
    "## 100 Points (will be converted to 10 points)"
   ]
  },
  {
   "cell_type": "markdown",
   "metadata": {},
   "source": [
    "In this mini-project, you will work with a movie dataset collected by James Gaskin, available at: https://data.world/jamesgaskin/is201movies/workspace/file?filename=MovieList+New.xlsx.\n",
    "\n",
    "Please load the pre-built SQL database by typing the following command in the terminal:\n",
    "\n",
    "```bash\n",
    "mysql -e 'CREATE DATABASE [Your_NetID]_movies;'\n",
    "mysql [Your_NetID]_movies < movie_user_rating.sql\n",
    "```\n",
    "\n",
    "Replace [Your_NetID] with your NetID. For example, if your NetID is `hz333`, you would type:\n",
    "\n",
    "```bash\n",
    "mysql -e 'CREATE DATABASE hz333_movies;'\n",
    "mysql hz333_movies < movie_user_rating.sql\n",
    "```\n",
    "\n",
    "Make sure you have the `movie_user_rating.sql` file in the same directory where you are running the above commands.\n",
    "\n",
    "In the pre-built SQL database, the movie information has been loaded as an SQL table named **movie**. Additionally, randomly generated user information is available in an SQL table named **user**, and user ratings are stored in an SQL table named **rating**.\n",
    "\n",
    "Your task is to formulate SQL queries in the Jupyter Notebook under the section \"Queries to Movies SQL Database\" by replacing the line \"__Your_SQL_Query_Here__\"."
   ]
  },
  {
   "cell_type": "markdown",
   "metadata": {},
   "source": [
    "The goal of this mini-project is to analyze the movie dataset to understand the popularity of movies based on movie release_date, genre, and user ratings. The obtained results are presented as SQL Tables.\n",
    "\n",
    "This goal is achieved by solving the following tasks:\n",
    "\n",
    "- [Find movies titles with certain prefixes](#task-1-find-movie-titles-that-begin-with-the-sort-by-release-date-limit-to-the-latest-10-movies)\n",
    "- [Find the number of movies released by years](#task-2-find-the-number-of-movies-released-by-years)\n",
    "- [Identify the number of movies released by genres](#task-3-identify-the-number-of-movies-released-by-genres)\n",
    "- [Identify the top rated movies by users](#task-4-identify-the-top-rated-movies-by-users)"
   ]
  },
  {
   "cell_type": "markdown",
   "metadata": {},
   "source": [
    "### Imports and Definitions of helper functions"
   ]
  },
  {
   "cell_type": "markdown",
   "metadata": {},
   "source": [
    "Please make sure you run the next cell to import the necessary libraries before you start working on the assigned tasks."
   ]
  },
  {
   "cell_type": "code",
   "execution_count": 1,
   "metadata": {},
   "outputs": [],
   "source": [
    "from mysql.connector import connect, Error\n",
    "import time"
   ]
  },
  {
   "cell_type": "markdown",
   "metadata": {},
   "source": [
    "Please make sure you run the next two cells to define the helper functions before you start working on the assigned tasks."
   ]
  },
  {
   "cell_type": "code",
   "execution_count": 2,
   "metadata": {},
   "outputs": [],
   "source": [
    "WAIT_TIME = 10\n",
    "def connect_to_db(db_name):\n",
    "    \"\"\"\n",
    "    Connect to the database\n",
    "    IN: db_name, str, the name of the database in MySQL\n",
    "    OUT: mydb, the database connection\n",
    "    EXCEPTION: TimeoutError, if the database is not running\n",
    "    \"\"\"\n",
    "\n",
    "    num_of_tries = 0\n",
    "    while num_of_tries < WAIT_TIME:\n",
    "        try:\n",
    "            mydb = connect(host=\"127.0.0.1\", user=\"root\", db=db_name)\n",
    "            if mydb.is_connected():\n",
    "                print(\"Connected\")\n",
    "                break\n",
    "        except Error as e:\n",
    "            print(e)\n",
    "\n",
    "        num_of_tries += 1\n",
    "        print(\"Waiting for MySQL to start\")\n",
    "        time.sleep(1)\n",
    "\n",
    "    if num_of_tries >= WAIT_TIME:\n",
    "        raise TimeoutError(\"MySQL is not running\")\n",
    "\n",
    "    return mydb"
   ]
  },
  {
   "cell_type": "code",
   "execution_count": 3,
   "metadata": {},
   "outputs": [],
   "source": [
    "def do_query(cursor, query):\n",
    "    \"\"\"\n",
    "    Execute a query and print the results\n",
    "    IN: cursor, the cursor object\n",
    "        query, the query to be executed\n",
    "    OUT: res, list[tuple], the results of the query\n",
    "    \"\"\"\n",
    "    cursor.execute(query)\n",
    "    res = cursor.fetchall()\n",
    "    print(cursor.column_names)\n",
    "    for row in res:\n",
    "        print(row)\n",
    "    return res"
   ]
  },
  {
   "cell_type": "markdown",
   "metadata": {},
   "source": [
    "### Connect to Movies SQL Database"
   ]
  },
  {
   "cell_type": "markdown",
   "metadata": {},
   "source": [
    "To connect to the SQL database, you need to run the following cell. Please make sure you specify your database name correctly."
   ]
  },
  {
   "cell_type": "code",
   "execution_count": 4,
   "metadata": {},
   "outputs": [
    {
     "name": "stdout",
     "output_type": "stream",
     "text": [
      "1045 (28000): Access denied for user 'root'@'localhost' (using password: NO)\n",
      "Waiting for MySQL to start\n",
      "1045 (28000): Access denied for user 'root'@'localhost' (using password: NO)\n",
      "Waiting for MySQL to start\n",
      "1045 (28000): Access denied for user 'root'@'localhost' (using password: NO)\n",
      "Waiting for MySQL to start\n",
      "1045 (28000): Access denied for user 'root'@'localhost' (using password: NO)\n",
      "Waiting for MySQL to start\n",
      "1045 (28000): Access denied for user 'root'@'localhost' (using password: NO)\n",
      "Waiting for MySQL to start\n",
      "1045 (28000): Access denied for user 'root'@'localhost' (using password: NO)\n",
      "Waiting for MySQL to start\n",
      "1045 (28000): Access denied for user 'root'@'localhost' (using password: NO)\n",
      "Waiting for MySQL to start\n",
      "1045 (28000): Access denied for user 'root'@'localhost' (using password: NO)\n",
      "Waiting for MySQL to start\n",
      "1045 (28000): Access denied for user 'root'@'localhost' (using password: NO)\n",
      "Waiting for MySQL to start\n",
      "1045 (28000): Access denied for user 'root'@'localhost' (using password: NO)\n",
      "Waiting for MySQL to start\n"
     ]
    },
    {
     "ename": "TimeoutError",
     "evalue": "MySQL is not running",
     "output_type": "error",
     "traceback": [
      "\u001b[0;31m---------------------------------------------------------------------------\u001b[0m",
      "\u001b[0;31mTimeoutError\u001b[0m                              Traceback (most recent call last)",
      "Cell \u001b[0;32mIn[4], line 3\u001b[0m\n\u001b[1;32m      1\u001b[0m \u001b[39mif\u001b[39;00m \u001b[39m__name__\u001b[39m \u001b[39m==\u001b[39m \u001b[39m\"\u001b[39m\u001b[39m__main__\u001b[39m\u001b[39m\"\u001b[39m:\n\u001b[1;32m      2\u001b[0m     \u001b[39m# all code under this block will be executed only when you directly run this Jupyter notebook\u001b[39;00m\n\u001b[0;32m----> 3\u001b[0m     mydb \u001b[39m=\u001b[39m connect_to_db(\u001b[39m\"\u001b[39;49m\u001b[39mec1204_movies\u001b[39;49m\u001b[39m\"\u001b[39;49m) \u001b[39m# change the database name to your database\u001b[39;00m\n\u001b[1;32m      4\u001b[0m     cursor \u001b[39m=\u001b[39m mydb\u001b[39m.\u001b[39mcursor()\n",
      "Cell \u001b[0;32mIn[2], line 25\u001b[0m, in \u001b[0;36mconnect_to_db\u001b[0;34m(db_name)\u001b[0m\n\u001b[1;32m     22\u001b[0m     time\u001b[39m.\u001b[39msleep(\u001b[39m1\u001b[39m)\n\u001b[1;32m     24\u001b[0m \u001b[39mif\u001b[39;00m num_of_tries \u001b[39m>\u001b[39m\u001b[39m=\u001b[39m WAIT_TIME:\n\u001b[0;32m---> 25\u001b[0m     \u001b[39mraise\u001b[39;00m \u001b[39mTimeoutError\u001b[39;00m(\u001b[39m\"\u001b[39m\u001b[39mMySQL is not running\u001b[39m\u001b[39m\"\u001b[39m)\n\u001b[1;32m     27\u001b[0m \u001b[39mreturn\u001b[39;00m mydb\n",
      "\u001b[0;31mTimeoutError\u001b[0m: MySQL is not running"
     ]
    }
   ],
   "source": [
    "if __name__ == \"__main__\":\n",
    "    # all code under this block will be executed only when you directly run this Jupyter notebook\n",
    "    mydb = connect_to_db(\"ec1204_movies\") # change the database name to your database\n",
    "    cursor = mydb.cursor()"
   ]
  },
  {
   "cell_type": "markdown",
   "metadata": {},
   "source": [
    "### Movies SQL Database Schema"
   ]
  },
  {
   "cell_type": "markdown",
   "metadata": {},
   "source": [
    "Before you start working on the assigned tasks, it is a good idea to understand the schema of the SQL database by running the next two cells."
   ]
  },
  {
   "cell_type": "code",
   "execution_count": 5,
   "metadata": {},
   "outputs": [],
   "source": [
    "def get_table_specification_query(table_name):\n",
    "    \"\"\"\n",
    "    Generate the SQL query to show the table specification\n",
    "    IN: table_name, str, the name of the table\n",
    "    OUT: str, the SQL query\n",
    "    \"\"\"\n",
    "    return f\"DESC {table_name}\""
   ]
  },
  {
   "cell_type": "code",
   "execution_count": 6,
   "metadata": {},
   "outputs": [
    {
     "name": "stdout",
     "output_type": "stream",
     "text": [
      "Table: movie\n"
     ]
    },
    {
     "ename": "NameError",
     "evalue": "name 'cursor' is not defined",
     "output_type": "error",
     "traceback": [
      "\u001b[0;31m---------------------------------------------------------------------------\u001b[0m",
      "\u001b[0;31mNameError\u001b[0m                                 Traceback (most recent call last)",
      "Cell \u001b[0;32mIn[6], line 6\u001b[0m\n\u001b[1;32m      4\u001b[0m \u001b[39mprint\u001b[39m(\u001b[39mf\u001b[39m\u001b[39m'\u001b[39m\u001b[39mTable: \u001b[39m\u001b[39m{\u001b[39;00mtable_name\u001b[39m}\u001b[39;00m\u001b[39m'\u001b[39m)\n\u001b[1;32m      5\u001b[0m query \u001b[39m=\u001b[39m get_table_specification_query(table_name)\n\u001b[0;32m----> 6\u001b[0m res \u001b[39m=\u001b[39m do_query(cursor, query)\n",
      "\u001b[0;31mNameError\u001b[0m: name 'cursor' is not defined"
     ]
    }
   ],
   "source": [
    "if __name__ == \"__main__\":\n",
    "    # all code under this block will be executed only when you directly run this Jupyter notebook\n",
    "    for table_name in ['movie', 'user', 'rating']:\n",
    "        print(f'Table: {table_name}')\n",
    "        query = get_table_specification_query(table_name)\n",
    "        res = do_query(cursor, query)"
   ]
  },
  {
   "cell_type": "markdown",
   "metadata": {},
   "source": [
    "### Sample Data in Movies SQL Database"
   ]
  },
  {
   "cell_type": "markdown",
   "metadata": {},
   "source": [
    "Before you start working on the assigned tasks, it is a good idea to take a look at a snapshot of the data in the SQL database by running the next two cells."
   ]
  },
  {
   "cell_type": "code",
   "execution_count": 6,
   "metadata": {},
   "outputs": [],
   "source": [
    "def get_sample_data_query(table_name, num_rows=5):\n",
    "    \"\"\"\n",
    "    Generate the SQL query to show the sample data\n",
    "    IN: table_name, str, the name of the table\n",
    "    OUT: str, the SQL query\n",
    "    \"\"\"\n",
    "    return f\"SELECT * FROM {table_name} LIMIT {num_rows}\""
   ]
  },
  {
   "cell_type": "code",
   "execution_count": 7,
   "metadata": {},
   "outputs": [
    {
     "name": "stdout",
     "output_type": "stream",
     "text": [
      "Table: movie\n"
     ]
    },
    {
     "ename": "NameError",
     "evalue": "name 'cursor' is not defined",
     "output_type": "error",
     "traceback": [
      "\u001b[0;31m---------------------------------------------------------------------------\u001b[0m",
      "\u001b[0;31mNameError\u001b[0m                                 Traceback (most recent call last)",
      "Cell \u001b[0;32mIn[7], line 6\u001b[0m\n\u001b[1;32m      4\u001b[0m \u001b[39mprint\u001b[39m(\u001b[39mf\u001b[39m\u001b[39m'\u001b[39m\u001b[39mTable: \u001b[39m\u001b[39m{\u001b[39;00mtable_name\u001b[39m}\u001b[39;00m\u001b[39m'\u001b[39m)\n\u001b[1;32m      5\u001b[0m query \u001b[39m=\u001b[39m get_sample_data_query(table_name)\n\u001b[0;32m----> 6\u001b[0m res \u001b[39m=\u001b[39m do_query(cursor, query)\n",
      "\u001b[0;31mNameError\u001b[0m: name 'cursor' is not defined"
     ]
    }
   ],
   "source": [
    "if __name__ == \"__main__\":\n",
    "    # all code under this block will be executed only when you directly run this Jupyter notebook\n",
    "    for table_name in ['movie', 'user', 'rating']:\n",
    "        print(f'Table: {table_name}')\n",
    "        query = get_sample_data_query(table_name)\n",
    "        res = do_query(cursor, query)"
   ]
  },
  {
   "cell_type": "markdown",
   "metadata": {},
   "source": [
    "### Queries to Movies SQL Database"
   ]
  },
  {
   "cell_type": "markdown",
   "metadata": {},
   "source": [
    "Please replace the line \"__Your_SQL_Query_Here__\" with your SQL query to solve the assigned tasks."
   ]
  },
  {
   "cell_type": "markdown",
   "metadata": {},
   "source": [
    "#### Task 1: Find movie titles that begin with 'The', sort by release date in descending order, and limit to the latest 10 movies"
   ]
  },
  {
   "cell_type": "markdown",
   "metadata": {},
   "source": [
    "Your query result Table should look like this:\n",
    "\n",
    "```text\n",
    "+-------+--------------+\n",
    "| title | release_date |\n",
    "+-------+--------------+\n",
    "| ...   | ...          |\n",
    "+-------+--------------+\n",
    "```"
   ]
  },
  {
   "cell_type": "code",
   "execution_count": 8,
   "metadata": {},
   "outputs": [],
   "source": [
    "def get_latest_movies_by_title_prefix_query(prefix=\"The\", num_rows=10):\n",
    "    \"\"\"\n",
    "    Generate the SQL query to show the latest movies that start with a prefix\n",
    "    IN: prefix, str, the prefix of the movie title\n",
    "        num_rows, int, the number of rows to return\n",
    "    OUT: str, the SQL query\n",
    "    \"\"\"\n",
    "    \n",
    "    return f\"\"\"\n",
    "    SELECT title, release_date\n",
    "    FROM movies\n",
    "    WHERE title LIKE '{prefix}%'\n",
    "    ORDER BY release_date DESC\n",
    "    LIMIT {num_rows};\n",
    "    \"\"\""
   ]
  },
  {
   "cell_type": "code",
   "execution_count": 9,
   "metadata": {},
   "outputs": [
    {
     "ename": "NameError",
     "evalue": "name 'cursor' is not defined",
     "output_type": "error",
     "traceback": [
      "\u001b[0;31m---------------------------------------------------------------------------\u001b[0m",
      "\u001b[0;31mNameError\u001b[0m                                 Traceback (most recent call last)",
      "Cell \u001b[0;32mIn[9], line 4\u001b[0m\n\u001b[1;32m      1\u001b[0m \u001b[39mif\u001b[39;00m \u001b[39m__name__\u001b[39m \u001b[39m==\u001b[39m \u001b[39m\"\u001b[39m\u001b[39m__main__\u001b[39m\u001b[39m\"\u001b[39m:\n\u001b[1;32m      2\u001b[0m     \u001b[39m# all code under this block will be executed only when you directly run this Jupyter notebook\u001b[39;00m\n\u001b[1;32m      3\u001b[0m     query \u001b[39m=\u001b[39m get_latest_movies_by_title_prefix_query(prefix\u001b[39m=\u001b[39m\u001b[39m\"\u001b[39m\u001b[39mA\u001b[39m\u001b[39m\"\u001b[39m, num_rows\u001b[39m=\u001b[39m\u001b[39m15\u001b[39m)\n\u001b[0;32m----> 4\u001b[0m     res \u001b[39m=\u001b[39m do_query(cursor, query)\n",
      "\u001b[0;31mNameError\u001b[0m: name 'cursor' is not defined"
     ]
    }
   ],
   "source": [
    "if __name__ == \"__main__\":\n",
    "    # all code under this block will be executed only when you directly run this Jupyter notebook\n",
    "    query = get_latest_movies_by_title_prefix_query(prefix=\"A\", num_rows=15)\n",
    "    res = do_query(cursor, query)"
   ]
  },
  {
   "cell_type": "markdown",
   "metadata": {},
   "source": [
    "#### Task 2: Find the number of movies released by years"
   ]
  },
  {
   "cell_type": "markdown",
   "metadata": {},
   "source": [
    "##### Task 2.1: Identify the number of movies released in 2015"
   ]
  },
  {
   "cell_type": "markdown",
   "metadata": {},
   "source": [
    "Your query result Table should look like this:\n",
    "\n",
    "```text\n",
    "+------------+\n",
    "| num_movies |\n",
    "+------------+\n",
    "| ...        |\n",
    "+------------+\n",
    "```\n",
    "\n",
    "\n",
    "Hint: `YEAR(date)` SQL function can be used to extract year from a `date` field.\n",
    "\n",
    "For example:\n",
    "```sql\n",
    "SELECT YEAR(movie.release_date) FROM movie;\n",
    "```"
   ]
  },
  {
   "cell_type": "code",
   "execution_count": 10,
   "metadata": {},
   "outputs": [],
   "source": [
    "def get_num_movies_released_in_year_query(year=2015):\n",
    "    \"\"\"\n",
    "    Generate the SQL query to show the number of movies released in a year\n",
    "    IN: year, int, the year\n",
    "    OUT: str, the SQL query\n",
    "    \"\"\"\n",
    "    \n",
    "    return f\"\"\"\n",
    "    SELECT COUNT(*) AS num_movies\n",
    "    FROM movies\n",
    "    WHERE YEAR(release_date) = {year};\n",
    "    \"\"\""
   ]
  },
  {
   "cell_type": "code",
   "execution_count": null,
   "metadata": {},
   "outputs": [],
   "source": [
    "if __name__ == \"__main__\":\n",
    "    # all code under this block will be executed only when you directly run this Jupyter notebook\n",
    "    query = get_num_movies_released_in_year_query()\n",
    "    res = do_query(cursor, query)"
   ]
  },
  {
   "cell_type": "markdown",
   "metadata": {},
   "source": [
    "##### Task 2.2: Identify how many movies were released from 2001 to 2005 (inclusive)."
   ]
  },
  {
   "cell_type": "markdown",
   "metadata": {},
   "source": [
    "Your query result Table should look like this:\n",
    "\n",
    "```text\n",
    "+------------+\n",
    "| num_movies |\n",
    "+------------+\n",
    "| ...        |\n",
    "+------------+\n",
    "```"
   ]
  },
  {
   "cell_type": "code",
   "execution_count": 11,
   "metadata": {},
   "outputs": [],
   "source": [
    "def get_num_movies_released_between_years_query(start_year=2001, end_year=2005):\n",
    "    \"\"\"\n",
    "    Generate the SQL query to show the number of movies released in a interval of years\n",
    "    IN: start_year, int, the start year\n",
    "        end_year, int, the end year\n",
    "    OUT: str, the SQL query\n",
    "    \"\"\"\n",
    "    \n",
    "    return f\"\"\"\n",
    "    SELECT COUNT(*) AS num_movies\n",
    "    FROM movies\n",
    "    WHERE YEAR(release_date) BETWEEN {start_year} AND {end_year};\n",
    "    \"\"\""
   ]
  },
  {
   "cell_type": "code",
   "execution_count": null,
   "metadata": {},
   "outputs": [],
   "source": [
    "if __name__ == \"__main__\":\n",
    "    # all code under this block will be executed only when you directly run this Jupyter notebook\n",
    "    query = get_num_movies_released_between_years_query()\n",
    "    res = do_query(cursor, query)"
   ]
  },
  {
   "cell_type": "markdown",
   "metadata": {},
   "source": [
    "#### Task 3: Identify the number of movies released by genres"
   ]
  },
  {
   "cell_type": "markdown",
   "metadata": {},
   "source": [
    "##### Task 3.1: Identify all the movie genres. Sort the genres in alphabetical order."
   ]
  },
  {
   "cell_type": "markdown",
   "metadata": {},
   "source": [
    "Your query result Table should look like this:\n",
    "\n",
    "```text\n",
    "+-------+\n",
    "| genre |\n",
    "+-------+\n",
    "| ...   |\n",
    "+-------+\n",
    "```"
   ]
  },
  {
   "cell_type": "code",
   "execution_count": 12,
   "metadata": {},
   "outputs": [],
   "source": [
    "def get_all_movie_genres_query():\n",
    "    \"\"\"\n",
    "    Generate the SQL query to show all the movie genres in alphabetical order\n",
    "    OUT: str, the SQL query\n",
    "    \"\"\"\n",
    "    \n",
    "    return f\"\"\"\n",
    "    SELECT DISTINCT genre\n",
    "    FROM movies\n",
    "    ORDER BY genre ASC;\n",
    "    \"\"\""
   ]
  },
  {
   "cell_type": "code",
   "execution_count": null,
   "metadata": {},
   "outputs": [],
   "source": [
    "if __name__ == \"__main__\":\n",
    "    # all code under this block will be executed only when you directly run this Jupyter notebook\n",
    "    query = get_all_movie_genres_query()\n",
    "    res = do_query(cursor, query)"
   ]
  },
  {
   "cell_type": "markdown",
   "metadata": {},
   "source": [
    "##### Task 3.2: Identify the top 3 genres with the most number of movies released in 2010."
   ]
  },
  {
   "cell_type": "markdown",
   "metadata": {},
   "source": [
    "Your query result Table should look like this:\n",
    "\n",
    "```text\n",
    "+-------+-------------+\n",
    "| genre | num_moivies |\n",
    "+-------+-------------+\n",
    "| ...   | ...         |\n",
    "+-------+-------------+\n",
    "```\n",
    "\n",
    "Note: break ties by sorting genres in alphabetical order"
   ]
  },
  {
   "cell_type": "code",
   "execution_count": 13,
   "metadata": {},
   "outputs": [],
   "source": [
    "def get_top_movie_genres_in_year_query(year=2010, num_genres=3):\n",
    "    \"\"\"\n",
    "    Generate the SQL query to show the top genres with the most number of movies released in a year\n",
    "    IN: year, int, the year\n",
    "        num_genres, int, the number of genres to return\n",
    "    OUT: str, the SQL query\n",
    "    \"\"\"\n",
    "    \n",
    "    return f\"\"\"\n",
    "    SELECT genre, COUNT(*) AS num_movies\n",
    "    FROM movies\n",
    "    WHERE YEAR(release_date) = {year}\n",
    "    GROUP BY genre\n",
    "    ORDER BY num_movies DESC, genre ASC\n",
    "    LIMIT {num_genres};\n",
    "    \"\"\""
   ]
  },
  {
   "cell_type": "code",
   "execution_count": null,
   "metadata": {},
   "outputs": [],
   "source": [
    "if __name__ == \"__main__\":\n",
    "    # all code under this block will be executed only when you directly run this Jupyter notebook\n",
    "    query = get_top_movie_genres_in_year_query()\n",
    "    res = do_query(cursor, query)"
   ]
  },
  {
   "cell_type": "markdown",
   "metadata": {},
   "source": [
    "#### Task 4: Identify the top rated movies by users"
   ]
  },
  {
   "cell_type": "markdown",
   "metadata": {},
   "source": [
    "##### Task 4.1: Identify the top 5 highest rated movies of 2017. Keep one decimal place for the computation of average rating."
   ]
  },
  {
   "cell_type": "markdown",
   "metadata": {},
   "source": [
    "Your query result Table should look like this:\n",
    "\n",
    "```text\n",
    "+-------+------------+\n",
    "| title | avg_rating |\n",
    "+-------+------------+\n",
    "| ...   | ...        |\n",
    "+-------+------------+\n",
    "```\n",
    "\n",
    "Hint: Use `ROUND(num, decimal_places)` function to round off the average rating to one decimal place.\n",
    "\n",
    "For example:\n",
    "```sql\n",
    "SELECT ROUND(AVG(rating.rating, 1) FROM rating;\n",
    "```"
   ]
  },
  {
   "cell_type": "code",
   "execution_count": 14,
   "metadata": {},
   "outputs": [],
   "source": [
    "def get_top_movies_in_year_query(year=2017, num_movies=5):\n",
    "    \"\"\"\n",
    "    Generate the SQL query to show the top movies of a year\n",
    "    IN: year, int, the year\n",
    "        num_movies, int, the number of movies to return\n",
    "    OUT: str, the SQL query\n",
    "    \"\"\"\n",
    "    \n",
    "    return f\"\"\"\n",
    "    SELECT m.title, ROUND(AVG(r.rating), 1) AS avg_rating\n",
    "    FROM movies m\n",
    "    JOIN ratings r ON m.movie_id = r.movie_id\n",
    "    WHERE YEAR(m.release_date) = {year}\n",
    "    GROUP BY m.title\n",
    "    ORDER BY avg_rating DESC, m.title ASC\n",
    "    LIMIT {num_movies};\n",
    "    \"\"\""
   ]
  },
  {
   "cell_type": "code",
   "execution_count": null,
   "metadata": {},
   "outputs": [],
   "source": [
    "if __name__ == \"__main__\":\n",
    "    # all code under this block will be executed only when you directly run this Jupyter notebook\n",
    "    query = get_top_movies_in_year_query()\n",
    "    res = do_query(cursor, query)"
   ]
  },
  {
   "cell_type": "markdown",
   "metadata": {},
   "source": [
    "#### Task 4.2: Identify the users who have an average rating of at least 8.0 for movies in the years 2010-2015 (inclusive). Sort the users by their name. Keep one decimal place for the computation of average rating."
   ]
  },
  {
   "cell_type": "markdown",
   "metadata": {},
   "source": [
    "Your query result Table should look like this:\n",
    "\n",
    "```text\n",
    "+----------+------------+\n",
    "| uname    | avg_rating |\n",
    "+----------+------------+\n",
    "| ...      | ...        |\n",
    "+----------+------------+\n",
    "```"
   ]
  },
  {
   "cell_type": "code",
   "execution_count": 15,
   "metadata": {},
   "outputs": [],
   "source": [
    "def get_users_with_high_average_rating_between_years_query(start_year=2010, end_year=2015, min_avg_rating=8.0):\n",
    "    \"\"\"\n",
    "    Generate the SQL query to show the users with high average rating in a range of years\n",
    "    IN: start_year, int, the start year\n",
    "        end_year, int, the end year\n",
    "        min_avg_rating, float, the minimum average rating\n",
    "    OUT: str, the SQL query\n",
    "    \"\"\"\n",
    "    \n",
    "    return f\"\"\"\n",
    "    SELECT u.uname, ROUND(AVG(r.rating), 1) AS avg_rating\n",
    "    FROM users u\n",
    "    JOIN ratings r ON u.user_id = r.user_id\n",
    "    JOIN movies m ON r.movie_id = m.movie_id\n",
    "    WHERE YEAR(m.release_date) BETWEEN {start_year} AND {end_year}\n",
    "    GROUP BY u.uname\n",
    "    HAVING avg_rating >= {min_avg_rating}\n",
    "    ORDER BY u.uname ASC;\n",
    "    \"\"\""
   ]
  },
  {
   "cell_type": "code",
   "execution_count": null,
   "metadata": {},
   "outputs": [],
   "source": [
    "if __name__ == \"__main__\":\n",
    "    # all code under this block will be executed only when you directly run this Jupyter notebook\n",
    "    query = get_users_with_high_average_rating_between_years_query()\n",
    "    res = do_query(cursor, query)"
   ]
  },
  {
   "cell_type": "markdown",
   "metadata": {},
   "source": [
    "#### Task 4.3: Identify the ratings given by the user `yVIBT711` for movies released in the years 2010-2015 (inclusive). Sort the movies by their release date in ascending order."
   ]
  },
  {
   "cell_type": "markdown",
   "metadata": {},
   "source": [
    "Your query result Table should look like this:\n",
    "\n",
    "```text\n",
    "+-------+--------+--------------+\n",
    "| title | rating | release_date |\n",
    "+-------+--------+--------------+\n",
    "| ...   | ...    | ...          |\n",
    "+-------+--------+--------------+\n",
    "```\n",
    "\n",
    "Note: break ties by movie title in ascending order."
   ]
  },
  {
   "cell_type": "code",
   "execution_count": 16,
   "metadata": {},
   "outputs": [],
   "source": [
    "def get_user_ratings_for_movies_between_years_query(user_name='yVIBT711', start_year=2010, end_year=2015):\n",
    "    \"\"\"\n",
    "    Generate the SQL query to show the ratings given by a user for movies released in a range of years\n",
    "    IN: user_name, str, the user name\n",
    "        start_year, int, the start year\n",
    "        end_year, int, the end year\n",
    "    OUT: str, the SQL query\n",
    "    \"\"\"\n",
    "    \n",
    "    return f\"\"\"\n",
    "    SELECT m.title, r.rating, m.release_date\n",
    "    FROM users u\n",
    "    JOIN ratings r ON u.user_id = r.user_id\n",
    "    JOIN movies m ON r.movie_id = m.movie_id\n",
    "    WHERE u.uname = '{user_name}'\n",
    "      AND YEAR(m.release_date) BETWEEN {start_year} AND {end_year}\n",
    "    ORDER BY m.release_date ASC, m.title ASC;\n",
    "    \"\"\""
   ]
  },
  {
   "cell_type": "code",
   "execution_count": null,
   "metadata": {},
   "outputs": [],
   "source": [
    "if __name__ == \"__main__\":\n",
    "    # all code under this block will be executed only when you directly run this Jupyter notebook\n",
    "    query = get_user_ratings_for_movies_between_years_query()\n",
    "    res = do_query(cursor, query)"
   ]
  },
  {
   "cell_type": "markdown",
   "metadata": {},
   "source": [
    "#### Task 4.4: Identify the movies released in the same year as the movie `Wonder Woman` and have a higher average rating than `Wonder Woman`. Sort the movies by their average rating in descending order. Keep one decimal place for the computation of average rating."
   ]
  },
  {
   "cell_type": "markdown",
   "metadata": {},
   "source": [
    "Your query result Table should look like this:\n",
    "\n",
    "```text\n",
    "+-------+------------+\n",
    "| title | avg_rating |\n",
    "+-------+------------+\n",
    "| ...   | ...        |\n",
    "+-------+------------+\n",
    "```\n",
    "\n",
    "Note: break ties by movie title in ascending order."
   ]
  },
  {
   "cell_type": "code",
   "execution_count": null,
   "metadata": {},
   "outputs": [],
   "source": [
    "def get_movies_higher_rating_than_movie_query(movie_title='Wonder Woman'):\n",
    "    \"\"\"\n",
    "    Generate the SQL query to show the movies released in the same year as a movie and have a higher average rating\n",
    "    IN: movie_title, str, the movie title\n",
    "    OUT: str, the SQL query\n",
    "    \"\"\"\n",
    "    \n",
    "    return f\"\"\"\n",
    "    WITH reference_movie AS (\n",
    "        SELECT YEAR(m.release_date) AS release_year, ROUND(AVG(r.rating), 1) AS avg_rating\n",
    "        FROM movies m\n",
    "        JOIN ratings r ON m.movie_id = r.movie_id\n",
    "        WHERE m.title = '{movie_title}'\n",
    "        GROUP BY YEAR(m.release_date)\n",
    "    )\n",
    "    SELECT m.title, ROUND(AVG(r.rating), 1) AS avg_rating\n",
    "    FROM movies m\n",
    "    JOIN ratings r ON m.movie_id = r.movie_id\n",
    "    WHERE YEAR(m.release_date) = (SELECT release_year FROM reference_movie)\n",
    "      AND m.title != '{movie_title}'\n",
    "    GROUP BY m.title\n",
    "    HAVING avg_rating > (SELECT avg_rating FROM reference_movie)\n",
    "    ORDER BY avg_rating DESC, m.title ASC;\n",
    "    \"\"\""
   ]
  },
  {
   "cell_type": "code",
   "execution_count": null,
   "metadata": {},
   "outputs": [],
   "source": [
    "if __name__ == \"__main__\":\n",
    "    # all code under this block will be executed only when you directly run this Jupyter notebook\n",
    "    query = get_movies_higher_rating_than_movie_query()\n",
    "    res = do_query(cursor, query)"
   ]
  },
  {
   "cell_type": "markdown",
   "metadata": {},
   "source": [
    "### Note: Do not forget to close the connection to the database."
   ]
  },
  {
   "cell_type": "code",
   "execution_count": null,
   "metadata": {},
   "outputs": [],
   "source": [
    "if __name__ == \"__main__\":\n",
    "    # all code under this block will be executed only when you directly run this Jupyter notebook\n",
    "    cursor.close()\n",
    "    mydb.close()"
   ]
  }
 ],
 "metadata": {
  "kernelspec": {
   "display_name": ".venv",
   "language": "python",
   "name": "python3"
  },
  "language_info": {
   "codemirror_mode": {
    "name": "ipython",
    "version": 3
   },
   "file_extension": ".py",
   "mimetype": "text/x-python",
   "name": "python",
   "nbconvert_exporter": "python",
   "pygments_lexer": "ipython3",
   "version": "3.13.0"
  }
 },
 "nbformat": 4,
 "nbformat_minor": 4
}
