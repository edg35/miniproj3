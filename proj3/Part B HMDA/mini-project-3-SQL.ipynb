{
 "cells": [
  {
   "cell_type": "markdown",
   "metadata": {},
   "source": [
    "## Mini Project 3 Part B\n",
    "\n",
    "## SQL Loan-Income-State Database for Loan Risk Analysis\n",
    "\n",
    "## 100 Points (will be converted to 20 points)\n"
   ]
  },
  {
   "cell_type": "markdown",
   "metadata": {},
   "source": [
    "In this mini-project, you will work on the Home Mortgage Disclosure Act (HMDA) dataset from US government ([link](https://www.consumerfinance.gov/data-research/hmda/historic-data/)). Specifically, you will work on the nationalwide records of 2017 as a zipped CSV file (`hmda_2017_nationwide_first-lien-owner-occupied-1-4-family-records_labels.zip`).\n",
    "\n",
    "**<font color=\"red\">The goal of this mini-project is to gather statistics useful to estimate the percentage of high risk applicants per state. The obtained results are presented as an SQL table accompanied by a scatter plot of average income versus average loan amount for every US state.</font>**\n",
    "\n",
    "This goal is achieved by completing five major tasks:\n",
    "\n",
    "- [Data Extraction (collect applicants Loan-Income per state) and Cleaning (remove missing values)](#task-1-15-pts-data-extraction-collect-applicants-loan-income-per-state-and-cleaning-remove-missing-values)\n",
    "- [Statistics per State of the Loan-Income-Applicants Data (min, max, average)](#task-2-30-pts-statistics-per-state-of-the-loan-income-applicants-data-min-max-average)\n",
    "- [Creation of a Basic SQL Table from the Loan-Income-State Data](#task-3-15-pts-creation-of-a-basic-sql-table-from-the-loan-income-state-data)\n",
    "- [Detection of High-Loan and High-Risk Applicants and Extension of the Basic SQL Table with this Information](#task-4-20-pts-detection-of-high-loan-and-high-risk-applicants-and-extension-of-the-basic-sql-table-with-this-information)\n",
    "- [Creation of a Scatter Plot of High-Risk States (average income versus average loan amount)](#task-5-5-pts-creation-of-a-scatter-plot-of-high-risk-states-average-income-versus-average-loan-amount)\n"
   ]
  },
  {
   "cell_type": "markdown",
   "metadata": {},
   "source": [
    "### Note: The first step to complete is to import the necessary libraries indicated below\n"
   ]
  },
  {
   "cell_type": "markdown",
   "metadata": {},
   "source": [
    "Please make sure you run the next cell to import the necessary libraries before you start working on the assigned tasks.\n"
   ]
  },
  {
   "cell_type": "code",
   "execution_count": 1,
   "metadata": {},
   "outputs": [],
   "source": [
    "# For reading csv in zip files\n",
    "import zipfile\n",
    "from io import TextIOWrapper\n",
    "import csv\n",
    "\n",
    "# For plots\n",
    "from matplotlib import pyplot as plt\n",
    "\n",
    "# For connecting to MySQL\n",
    "from mysql.connector import connect, Error\n",
    "import time\n",
    "\n",
    "# user-defined module to get all the states' abbreviations\n",
    "from util import state_abbrs"
   ]
  },
  {
   "cell_type": "markdown",
   "metadata": {},
   "source": [
    "### Task 1 (15 pts): Data Extraction (collect applicants Loan-Income per state) and Cleaning (remove missing values)\n"
   ]
  },
  {
   "cell_type": "markdown",
   "metadata": {},
   "source": [
    "#### Subtask 1.1 (5 pts): Extract the data from the zipped CSV file\n"
   ]
  },
  {
   "cell_type": "markdown",
   "metadata": {},
   "source": [
    "Write a function `read_zip_csv` following the code template provided below. This function should take three inputs and produce one output as indicated next. You just need to complete the missing code in the cell containing the string `\"\"\"__Your_Code_Here__\"\"\"`.\n",
    "\n",
    "- **Input 1**: a string `zip_file_name` representing the path to a zip file.\n",
    "- **Input 2**: a string `csv_file_name` representing the name of a CSV file within the zip file.\n",
    "- **Input 3**: a list of string `column_names` specifying the names of the columns of interest.\n",
    "- **Output**: a list of lists of strings `data`, where each inner list represents a row containing only the specified columns according to **Input 3** from the CSV file.\n",
    "\n",
    "Note: In order to complete the missing code, it is imperative that you understand the intended purpose of the code template.\n"
   ]
  },
  {
   "cell_type": "code",
   "execution_count": 2,
   "metadata": {},
   "outputs": [],
   "source": [
    "def read_zip_csv(zip_file_name, csv_file_name, column_names):\n",
    "    \"\"\"\n",
    "    Read a csv file from a zip file, and return data in the specified columns\n",
    "    IN: zip_file_name, str, the name of the zip file\n",
    "        csv_file_name, str, the name of the csv file in the zip file\n",
    "        column_names, list[str], the names of the columns to extract\n",
    "    OUT: data, list[list[str]], the data from the csv file in the specified columns\n",
    "    \"\"\"\n",
    "\n",
    "    data = []\n",
    "    # use zipfile to open the zip file directly\n",
    "    with zipfile.ZipFile(zip_file_name) as z:\n",
    "        with z.open(csv_file_name) as f:\n",
    "            # use csv to read the zipped csv file\n",
    "            reader = csv.DictReader(TextIOWrapper(f, 'utf-8'))\n",
    "            # iterate through the rows of the csv file\n",
    "            for idx, row in enumerate(reader, start=1):\n",
    "                # extract the data in the specified columns\n",
    "                data.append([row[col] for col in column_names])\n",
    "\n",
    "                if idx % 1_000_000 == 0:\n",
    "                    print(f\"Read {idx} rows\")\n",
    "    return data"
   ]
  },
  {
   "cell_type": "markdown",
   "metadata": {},
   "source": [
    "In this mini-project, we are interested in the following three columns of the HMDA dataset: `state_abbr`, `loan_amount_000s` and `applicant_income_000s`. Please run the cell below to extract the information in these three columns before moving on to the next subtask.\n"
   ]
  },
  {
   "cell_type": "code",
   "execution_count": 3,
   "metadata": {},
   "outputs": [
    {
     "name": "stdout",
     "output_type": "stream",
     "text": [
      "Read 1000000 rows\n",
      "Read 2000000 rows\n",
      "Read 3000000 rows\n",
      "Read 4000000 rows\n",
      "Read 5000000 rows\n",
      "[['MI', '175', '38'], ['ID', '196', '73'], ['CA', '1079', '278'], ['MN', '199', '119'], ['NY', '800', '181']]\n"
     ]
    }
   ],
   "source": [
    "if __name__ == \"__main__\":\n",
    "    # The code in this cell calls the function defined above.\n",
    "    # It loads the three columns into a Python list named `data`.\n",
    "    # Before proceeding, it is a good idea to run this code to see a snapshot of the data.\n",
    "    data = read_zip_csv(\n",
    "        \"hmda_2017_nationwide_first-lien-owner-occupied-1-4-family-records_labels.zip\",\n",
    "        \"hmda_2017_nationwide_first-lien-owner-occupied-1-4-family-records_labels.csv\",\n",
    "        ['state_abbr', 'loan_amount_000s', 'applicant_income_000s']\n",
    "    )\n",
    "    # print the first 5 rows of the data\n",
    "    print(data[:5])"
   ]
  },
  {
   "cell_type": "markdown",
   "metadata": {},
   "source": [
    "#### Subtask 1.2 (10 pts): Clean the extracted data\n"
   ]
  },
  {
   "cell_type": "markdown",
   "metadata": {},
   "source": [
    "Write a function `clean_data` that takes two inputs and produces two outputs as indicated below. You just need to complete the missing code in the cell containing the string `\"\"\"__Your_Code_Here__\"\"\"`.\n",
    "\n",
    "- **Input 1**: a list of lists of strings `data` as extracted from the CSV file. Each sublist represents a row with the relevant columns.\n",
    "- **Input 2**: a list of functions `cleaners`. Each function converts values in a specific column to a desired type, with the order of functions in the list matching the column order in `data`. Each function should have the following signature:\n",
    "  - **input**: a string `column_value` to be cleaned.\n",
    "  - **output**: A cleaned value (of type string, int, or float, depending on the column).\n",
    "- **Output 1**: a list of tuples `cleaned_data`, where each tuple represents a row of cleaned data in the desired types.\n",
    "- **Output 2**: a pair of integers `(n_rows_cleaned, n_rows_discarded)` representing the number of rows cleaned and the number discarded, respectively.\n",
    "\n",
    "Note: If a value in a row fails to be cleaned, the entire row should be discarded.\n"
   ]
  },
  {
   "cell_type": "code",
   "execution_count": 4,
   "metadata": {},
   "outputs": [],
   "source": [
    "def clean_data(data, cleaners):\n",
    "    \"\"\"\n",
    "    Clean the data using the specified cleaners\n",
    "    IN: data, list[list[str]], the data to clean\n",
    "        cleaners, list[function(str) -> any], the functions to clean each column\n",
    "    OUT: cleaned_data, list[tuple], the cleaned data\n",
    "         (n_rows_cleaned, n_rows_discarded), tuple(int, int) the number of rows cleaned and discarded\n",
    "    \"\"\"\n",
    "\n",
    "    cleaned_data = []\n",
    "    n_rows_cleaned = 0\n",
    "    n_rows_discarded = 0\n",
    "    for row in data:\n",
    "        # use try-except to filter out the rows that cannot be cleaned\n",
    "        try:\n",
    "            # clean each value in the row\n",
    "            cleaned_row = tuple(cleaner(val)\n",
    "                                for cleaner, val in zip(cleaners, row))\n",
    "\n",
    "        except ValueError as e:\n",
    "            # some values in the row are invalid, so discard the row\n",
    "            n_rows_discarded += 1\n",
    "\n",
    "        else:\n",
    "            # all values in the row are valid, so append the cleaned row\n",
    "            n_rows_cleaned += 1\n",
    "            cleaned_data.append(cleaned_row)\n",
    "\n",
    "    return cleaned_data, (n_rows_cleaned, n_rows_discarded)"
   ]
  },
  {
   "cell_type": "markdown",
   "metadata": {},
   "source": [
    "In this mini-project, we need to clean the data in the following ways:\n",
    "\n",
    "- `state_abbr`: convert to uppercase letters, and if it is not a valid 2-letter state abbreviation, discard the row.\n",
    "- `loan_amount_000s`: convert to integers, and if it is empty, discard the row.\n",
    "- `applicant_income_000s`: convert to integers, and if it is empty, discard the row.\n"
   ]
  },
  {
   "cell_type": "code",
   "execution_count": 5,
   "metadata": {},
   "outputs": [],
   "source": [
    "def clean_state_abbr(column_value):\n",
    "    \"\"\"\n",
    "    Clean a state abbreviation\n",
    "    IN: column_value, str, the state abbreviation to clean\n",
    "    OUT: str, the cleaned state abbreviation in uppercase\n",
    "    EXCEPTION: ValueError, if the state abbreviation is not valid\n",
    "    \"\"\"\n",
    "    # state_abbrs is a set of all the state abbreviations\n",
    "    # you can use it to check if a state abbreviation is valid\n",
    "    if column_value.upper() not in state_abbrs:\n",
    "        raise ValueError(f\"Invalid state abbreviation: {column_value}\")\n",
    "    return column_value.upper()\n",
    "\n",
    "\n",
    "def clean_loan_amount(column_value):\n",
    "    \"\"\"\n",
    "    Clean a loan amount\n",
    "    IN: column_value, str, the loan amount to clean\n",
    "    OUT: int, the cleaned loan amount\n",
    "    EXCEPTION: ValueError, if the loan amount is not an integer\n",
    "    \"\"\"\n",
    "    # convert to integer\n",
    "    try:\n",
    "        return int(column_value)\n",
    "    except ValueError:\n",
    "        raise ValueError(f\"Invalid loan amount: {column_value}\")\n",
    "\n",
    "\n",
    "def clean_applicant_income(column_value):\n",
    "    \"\"\"\n",
    "    Clean an applicant income\n",
    "    IN: column_value, str, the applicant income to clean\n",
    "    OUT: int, the cleaned applicant income\n",
    "    EXCEPTION: ValueError, if the applicant income is not an integer\n",
    "    \"\"\"\n",
    "    # convert to integer\n",
    "    try:\n",
    "        return int(column_value)\n",
    "    except ValueError:\n",
    "        raise ValueError(f\"Invalid applicant income: {column_value}\")"
   ]
  },
  {
   "cell_type": "markdown",
   "metadata": {},
   "source": [
    "Please run the cell below to clean the three columns before moving on to the next task.\n"
   ]
  },
  {
   "cell_type": "code",
   "execution_count": 6,
   "metadata": {},
   "outputs": [
    {
     "name": "stdout",
     "output_type": "stream",
     "text": [
      "[('MI', 175, 38), ('ID', 196, 73), ('CA', 1079, 278), ('MN', 199, 119), ('NY', 800, 181)]\n",
      "5714105 272554\n"
     ]
    }
   ],
   "source": [
    "if __name__ == \"__main__\":\n",
    "    # The code in this cell calls the functions defined above.\n",
    "    # It cleans the data using the specified cleaners.\n",
    "    # Before proceeding, it is a good idea to run this code to see a snapshot of the cleaned data.\n",
    "    cleaned_data, (n_rows_cleaned, n_rows_discarded) = clean_data(\n",
    "        data,\n",
    "        [\n",
    "            clean_state_abbr,\n",
    "            clean_loan_amount,\n",
    "            clean_applicant_income,\n",
    "        ],\n",
    "    )\n",
    "    # print the first 5 rows of the cleaned data\n",
    "    print(cleaned_data[:5])\n",
    "    # print the number of rows cleaned and discarded\n",
    "    print(n_rows_cleaned, n_rows_discarded)"
   ]
  },
  {
   "cell_type": "markdown",
   "metadata": {},
   "source": [
    "### Task 2 (30 pts): Statistics per State of the Loan-Income-Applicants Data (min, max, average)\n"
   ]
  },
  {
   "cell_type": "markdown",
   "metadata": {},
   "source": [
    "#### Subtask 2.1 (12 pts): Check the statistics of the cleaned data and store the results in dictionaries\n"
   ]
  },
  {
   "cell_type": "markdown",
   "metadata": {},
   "source": [
    "Write a function `check_data` that takes three inputs and produces one output as indicated below. You just need to complete the missing code in the cell containing the string `\"\"\"__Your_Code_Here__\"\"\"`.\n",
    "\n",
    "- **Input 1**: a list of tuples `cleaned_data` representing cleaned rows from the CSV file.\n",
    "- **Input 2**: a list of functions `checkers`. Each function checks a specific column, with the order of functions in the list matching the column order in`cleaned_data`. Each function should have the following signature:\n",
    "  - **input a**: a cleaned data value (string, int, or float, depending on the column).\n",
    "  - **input b**: a dictionary representing the statistical summary of the column up to, but excluding, the current row, based on the column type.\n",
    "  - **output**: A dictionary representing the updated statistical summary of the column, including the current row.\n",
    "- **Input 3**: a list of dictionaries `initial_stats`, where each dictionary represents the initial statistical summary for a column. The order of dictionaries in the list should match the order of columns in `cleaned_data`.\n",
    "- **Output**: a list of tuples `final_stats`, where each tuple represents the final statistical summary of a column. The order of tuples in the list should match the order of columns in `cleaned_data`.\n"
   ]
  },
  {
   "cell_type": "code",
   "execution_count": 7,
   "metadata": {},
   "outputs": [],
   "source": [
    "def check_data(cleaned_data, checkers, initial_stats):\n",
    "    \"\"\"\n",
    "    Check the data using the specified checkers\n",
    "    IN: cleaned_data, list[tuple], the cleaned data\n",
    "        checkers, list[function(any, dict) -> dict], the functions to check each column\n",
    "        initial_stats, list[dict], the initial statistics for each column\n",
    "    OUT: final_stats, list[dict], the final statistics for each column\n",
    "    \"\"\"\n",
    "\n",
    "    # initialize the final statistics\n",
    "    final_stats = initial_stats.copy()\n",
    "    # iterate through the cleaned data\n",
    "    for row in cleaned_data:\n",
    "        # update the statistics using the checkers\n",
    "        for checker, val, stats in zip(checkers, row, final_stats):\n",
    "            stats.update(checker(val, stats))\n",
    "    return final_stats"
   ]
  },
  {
   "cell_type": "markdown",
   "metadata": {},
   "source": [
    "In this mini-project we are going to check the data as follows:\n",
    "\n",
    "- `state_abbr`: Count the occurrences of each state in the data.\n",
    "- `loan_amount_000s`: Record the **dictionary** keys `min`, `max`, and `total` loan amounts (`total` can be used to calculate the average loan amount).\n",
    "- `applicant_income_000s`: Record the **dictionary** keys `min`, `max`, and `total` applicant incomes (`total` can be used to calculate the average applicant income).\n",
    "\n",
    "The initial statistical summary for each column is a **dictionary** with the following structure:\n",
    "\n",
    "```python\n",
    "state_abbr_stat = {abbr: 0 for abbr in state_abbrs}\n",
    "loan_amount_000s_stat = {'min': float('inf'), 'max': float('-inf'), 'total': 0}\n",
    "applicant_income_000s_stat = {'min': float('inf'), 'max': float('-inf'), 'total': 0}\n",
    "```\n"
   ]
  },
  {
   "cell_type": "code",
   "execution_count": 8,
   "metadata": {},
   "outputs": [],
   "source": [
    "def check_state_abbr(column_value, stats):\n",
    "    \"\"\"\n",
    "    Check a state abbreviation, updating the count of each state abbreviation\n",
    "    IN: column_value, str, the state abbreviation to check\n",
    "        stats, dict{state_abbr: int}, the current count of each state abbreviation\n",
    "    OUT: stats, dict{state_abbr: int}, the updated count of each state abbreviation\n",
    "    \"\"\"\n",
    "    # check if the state abbreviation is in the dictionary\n",
    "    if column_value not in stats:\n",
    "        # if not, add it\n",
    "        stats[column_value] = 1\n",
    "    else:\n",
    "        # if it is, increment the count\n",
    "        stats[column_value] += 1\n",
    "\n",
    "    return stats\n",
    "\n",
    "\n",
    "def check_loan_amount(column_value, stats):\n",
    "    \"\"\"\n",
    "    Check a loan amount, updating the minimum, maximum, and total loan amount\n",
    "    IN: column_value, int, the loan amount to check\n",
    "        stats, dict{min: int, max: int, total: int}, the current statistics for the loan amount\n",
    "    OUT: dict{min: int, max: int, total: int}, the updated statistics for the loan amount\n",
    "    \"\"\"\n",
    "    # update the min value if necessary\n",
    "    if column_value < stats['min']:\n",
    "        stats['min'] = column_value\n",
    "\n",
    "    # update the max value if necessary\n",
    "    if column_value > stats['max']:\n",
    "        stats['max'] = column_value\n",
    "\n",
    "    # update the total value\n",
    "    stats['total'] += column_value\n",
    "\n",
    "    return stats\n",
    "\n",
    "\n",
    "def check_applicant_income(column_value, stats):\n",
    "    \"\"\"\n",
    "    Check an applicant income, updating the minimum, maximum, and total applicant income\n",
    "    IN: column_value, int, the applicant income to check\n",
    "        stats, dict, the current statistics for the applicant income\n",
    "    OUT: dict, the updated statistics for the applicant income\n",
    "    \"\"\"\n",
    "    # update min value\n",
    "    if column_value < stats['min']:\n",
    "        stats['min'] = column_value\n",
    "\n",
    "    # update max value\n",
    "    if column_value > stats['max']:\n",
    "        stats['max'] = column_value\n",
    "\n",
    "    # update total value\n",
    "    stats['total'] += column_value\n",
    "\n",
    "    return stats"
   ]
  },
  {
   "cell_type": "markdown",
   "metadata": {},
   "source": [
    "Before moving on to the next subtask, please run the cell below to check the statistics of the cleaned data.\n"
   ]
  },
  {
   "cell_type": "code",
   "execution_count": 9,
   "metadata": {},
   "outputs": [
    {
     "name": "stdout",
     "output_type": "stream",
     "text": [
      "{'IL': 218355, 'WY': 10016, 'OR': 92265, 'TX': 434855, 'CA': 694012, 'KS': 48473, 'FL': 380505, 'MN': 123353, 'MD': 117073, 'CO': 174910, 'DE': 17570, 'IA': 58381, 'LA': 58702, 'MI': 194402, 'MS': 35292, 'NY': 180903, 'TN': 127743, 'WA': 185569, 'AL': 75839, 'HI': 19342, 'ID': 42214, 'MT': 18352, 'PA': 192642, 'ND': 12141, 'CT': 55440, 'OK': 53916, 'NE': 33825, 'NH': 27354, 'SD': 14735, 'MO': 114016, 'VA': 166325, 'AK': 12053, 'AR': 43536, 'NM': 27250, 'UT': 85216, 'VT': 8991, 'WI': 114286, 'MA': 127313, 'RI': 19009, 'OH': 200250, 'NC': 187076, 'WV': 21893, 'KY': 70028, 'SC': 96272, 'ME': 22295, 'NV': 72929, 'IN': 129620, 'NJ': 135382, 'GA': 193207, 'AZ': 168979}\n",
      "{'min': 1, 'max': 320000, 'total': 1472760829}\n",
      "{'min': 1, 'max': 268000, 'total': 609860634}\n"
     ]
    }
   ],
   "source": [
    "if __name__ == \"__main__\":\n",
    "    # The code in this cell calls the functions defined above.\n",
    "    # It checks the cleaned data using the specified checkers.\n",
    "    # Before proceeding, it is a good idea to run this code to see the final statistics\n",
    "    final_stats = check_data(\n",
    "        cleaned_data,\n",
    "        [\n",
    "            check_state_abbr,\n",
    "            check_loan_amount,\n",
    "            check_applicant_income,\n",
    "        ],\n",
    "        [\n",
    "            {state: 0 for state in state_abbrs},\n",
    "            {'min': float('inf'), 'max': float('-inf'), 'total': 0},\n",
    "            {'min': float('inf'), 'max': float('-inf'), 'total': 0},\n",
    "        ],\n",
    "    )\n",
    "    # print the statistics for state abbreviation\n",
    "    print(final_stats[0])\n",
    "    # print the statistics for loan amount\n",
    "    print(final_stats[1])\n",
    "    # print the statistics for applicant income\n",
    "    print(final_stats[2])"
   ]
  },
  {
   "cell_type": "markdown",
   "metadata": {},
   "source": [
    "#### Subtask 2.2 (4 pts): Plot the bar chart of the number of applicants by state\n"
   ]
  },
  {
   "cell_type": "markdown",
   "metadata": {},
   "source": [
    "Write a function `plot_applicants_by_state` that takes one input and produces a plot as indicated below. You just need to complete the missing code in the cell containing the string `\"\"\"__Your_Code_Here__\"\"\"`.\n",
    "\n",
    "- **Input**: a dictionary `state_abbr_stat` representing the number of applicants per state.\n",
    "  - **key**: a state abbreviation.\n",
    "  - **value**: the number of applicants.\n",
    "- **Plot**: a bar chart displaying the number of applicants per state, sorted by the applicant count in descending order. Ties should be broken by sorting state abbreviations in ascending order.\n",
    "  - **x-axis**: state abbreviation.\n",
    "  - **y-axis**: the number of applicants.\n"
   ]
  },
  {
   "cell_type": "code",
   "execution_count": 10,
   "metadata": {},
   "outputs": [],
   "source": [
    "def plot_applicants_by_state(state_abbr_stat):\n",
    "    \"\"\"\n",
    "    Plot the number of applicants by state\n",
    "    IN: state_abbr_stat, dict{str: int}, the number of applicants by state\n",
    "    \"\"\"\n",
    "\n",
    "    # sort the states by the number of applicants from greatest to least\n",
    "    state_abbr_stat = dict(\n",
    "        sorted(state_abbr_stat.items(), key=lambda x: x[1], reverse=True))\n",
    "\n",
    "    # extract the states and counts\n",
    "    states = state_abbr_stat.keys()\n",
    "    counts = state_abbr_stat.values()\n",
    "\n",
    "    # increase the figure size to avoid overlapping labels\n",
    "    plt.figure(figsize=(15, 5))\n",
    "\n",
    "    # draw a bar plot\n",
    "    # if you forgot how to specify a bar plot, you can check Mini-Project 2\n",
    "    plt.bar(states, counts)\n",
    "\n",
    "    # set the labels and title\n",
    "    plt.xlabel('State Abbreviation')\n",
    "    plt.ylabel('Number of applicants')\n",
    "    plt.title('Number of applicants by State')\n",
    "    plt.show()"
   ]
  },
  {
   "cell_type": "markdown",
   "metadata": {},
   "source": [
    "Before moving on to the next subtask, please run the cell below to plot the bar chart of the number of applicants by state.\n"
   ]
  },
  {
   "cell_type": "code",
   "execution_count": 11,
   "metadata": {},
   "outputs": [
    {
     "data": {
      "image/png": "[encoded data removed]",
      "text/plain": [
       "<Figure size 1500x500 with 1 Axes>"
      ]
     },
     "metadata": {},
     "output_type": "display_data"
    }
   ],
   "source": [
    "if __name__ == \"__main__\":\n",
    "    # The code in this cell calls the function defined above.\n",
    "    # It plots the number of applicants by state.\n",
    "    # Before proceeding, it is a good idea to run this code to see the plot.\n",
    "    plot_applicants_by_state(final_stats[0])"
   ]
  },
  {
   "cell_type": "markdown",
   "metadata": {},
   "source": [
    "#### Subtask 2.3 (12 pts): Plot Average Loan Amount and Average Applicant Income by State\n"
   ]
  },
  {
   "cell_type": "markdown",
   "metadata": {},
   "source": [
    "##### Subsubtask 2.3.1 (4 pts): Calculate the total loan amount and total applicant income by state\n"
   ]
  },
  {
   "cell_type": "markdown",
   "metadata": {},
   "source": [
    "Write a function `get_total_loan_income_by_state` that takes one input and produces one output as indicated below. You just need to complete the missing code in the cell containing the string `\"\"\"__Your_Code_Here__\"\"\"`.\n",
    "\n",
    "- **Input**: a list of tuples `cleaned_data` extracted and cleaned from the CSV file.\n",
    "- **Output**: a dictionary `total_loan_income_by_state` representing the total loan amount and total applicant income by state.\n",
    "  - **key**: a state abbreviation.\n",
    "  - **value**: a pair of integers `(total_loan_amount, total_applicant_income)`.\n"
   ]
  },
  {
   "cell_type": "code",
   "execution_count": 12,
   "metadata": {},
   "outputs": [],
   "source": [
    "from collections import defaultdict\n",
    "\n",
    "\n",
    "def get_total_loan_income_by_state(cleaned_data):\n",
    "    \"\"\"\n",
    "    Get the total loan amount and total applicant income by state\n",
    "    IN: cleaned_data, list[tuple], the cleaned data\n",
    "    OUT: total_loan_income_by_state, dict{str: tuple(int, int)}, the total loan amount and total applicant income by state\n",
    "    \"\"\"\n",
    "\n",
    "    # initialize the total loan amount and total applicant income by state\n",
    "    total_loan_income_by_state = defaultdict(lambda: [0, 0])\n",
    "\n",
    "    # iterate through the cleaned data to update the total loan amount and total applicant income by state\n",
    "    for state_abbr, loan_amount, applicant_income in cleaned_data:\n",
    "        # update the total loan amount and total applicant income for the state\n",
    "        total_loan_income_by_state[state_abbr][0] += loan_amount\n",
    "        total_loan_income_by_state[state_abbr][1] += applicant_income\n",
    "\n",
    "    return total_loan_income_by_state"
   ]
  },
  {
   "cell_type": "markdown",
   "metadata": {},
   "source": [
    "Before moving on to the next subsubtask, please run the cell below to calculate the total loan amount and total applicant income by state.\n"
   ]
  },
  {
   "cell_type": "code",
   "execution_count": 13,
   "metadata": {},
   "outputs": [
    {
     "name": "stdout",
     "output_type": "stream",
     "text": [
      "MI: 33919381, 17293815\n",
      "ID: 8653751, 3441233\n",
      "CA: 301155285, 98540324\n",
      "MN: 27002006, 12148323\n",
      "NY: 58120368, 25035834\n",
      "TX: 100991941, 48686950\n",
      "KS: 8739767, 4497975\n",
      "FL: 88690061, 37780309\n",
      "PA: 37600721, 18970602\n",
      "WI: 20221219, 10473281\n",
      "MO: 20221722, 10005888\n",
      "IA: 9403481, 5087683\n",
      "VT: 1773080, 841979\n",
      "NC: 40057502, 17581442\n",
      "KY: 11695980, 5772456\n",
      "MT: 4090266, 1636376\n",
      "IL: 49464505, 24157180\n",
      "NE: 5874517, 3065132\n",
      "WV: 3571414, 2059828\n",
      "CT: 16098317, 7356808\n",
      "MA: 43231011, 16759209\n",
      "UT: 21611629, 7568864\n",
      "AR: 7018744, 3606240\n",
      "OH: 33112018, 17933406\n",
      "CO: 52399446, 18317622\n",
      "VA: 50040597, 18794634\n",
      "GA: 42332136, 18545483\n",
      "WA: 60594344, 20912298\n",
      "NM: 5356784, 2340661\n",
      "SC: 20129460, 8633896\n",
      "HI: 8908905, 2442877\n",
      "NJ: 41432900, 18313041\n",
      "TN: 26255449, 11331440\n",
      "RI: 4438865, 1885873\n",
      "IN: 20825594, 10572139\n",
      "MD: 37852532, 14584275\n",
      "AZ: 39853874, 15618214\n",
      "MS: 5738618, 2916398\n",
      "AK: 3234719, 1231742\n",
      "OR: 25623689, 9267656\n",
      "ND: 2470460, 1182874\n",
      "LA: 11478941, 5780604\n",
      "SD: 2788166, 1405767\n",
      "OK: 9143807, 4697816\n",
      "NH: 6501985, 2909775\n",
      "AL: 13417107, 6345585\n",
      "ME: 4403175, 1998446\n",
      "NV: 18961010, 7030500\n",
      "DE: 4036185, 1606068\n",
      "WY: 2223395, 893813\n"
     ]
    }
   ],
   "source": [
    "if __name__ == \"__main__\":\n",
    "    # The code in this cell calls the function defined above.\n",
    "    # It gets the total loan amount and total applicant income by state.\n",
    "    # Before proceeding, it is a good idea to run this code to see the total loan amount and total applicant income by state.\n",
    "    total_loan_income_by_state = get_total_loan_income_by_state(cleaned_data)\n",
    "    # print the total loan amount and total applicant income by state\n",
    "    for state_abbr, (total_loan, total_income) in total_loan_income_by_state.items():\n",
    "        print(f\"{state_abbr}: {total_loan}, {total_income}\")"
   ]
  },
  {
   "cell_type": "markdown",
   "metadata": {},
   "source": [
    "##### Subsubtask 2.3.2 (2 pts): Calculate the average loan amount and average applicant income\n"
   ]
  },
  {
   "cell_type": "markdown",
   "metadata": {},
   "source": [
    "Write a function `get_avg_loan_income_by_state` that takes three inputs and produces two outputs as indicated below. You just need to complete the missing code in the cell containing the string `\"\"\"__Your_Code_Here__\"\"\"`.\n",
    "\n",
    "- **Input 1**: a dictionary `total_loan_income_by_state` representing the total loan amount and total applicant income by state.\n",
    "- **Input 2**: a dictionary `state_abbr_stat` representing the number of applicants by state.\n",
    "- **Input 3**: a pair of integers `(total_loan_amount, total_applicant_income)` representing the total loan amount and total applicant income across all applicants.\n",
    "- **Output 1**: a dictionary `avg_loan_income_by_state` representing the average loan amount and average applicant income by state.\n",
    "  - **key**: a state abbreviation.\n",
    "  - **value**: a tuple `(avg_loan_amount, avg_applicant_income)`.\n",
    "- **Output 2**: a tuple `(avg_loan_amount, avg_applicant_income)` representing the average loan amount and average applicant income across all applicants.\n"
   ]
  },
  {
   "cell_type": "code",
   "execution_count": 14,
   "metadata": {},
   "outputs": [],
   "source": [
    "def get_avg_loan_income_by_state(total_loan_income_by_state, state_abbr_stat, total_loan_income):\n",
    "    \"\"\"\n",
    "    Get the average loan amount and average applicant income by state\n",
    "    IN: total_loan_income_by_state, dict{str: tuple(int, int)}, the total loan amount and total applicant income by state\n",
    "        state_abbr_stat, dict{str: int}, the number of applicants by state\n",
    "        total_loan_income, tuple(int, int), the total loan amount and total applicant income of all applicants\n",
    "    OUT: avg_loan_income_by_state, dict{str: tuple(float, float)}, the average loan amount and average applicant income by state\n",
    "         avg_loan_income, tuple(float, float), the average loan amount and average applicant income of all applicants.\n",
    "    \"\"\"\n",
    "\n",
    "    # initialize the average loan amount and average applicant income by state\n",
    "    avg_loan_income_by_state = {}\n",
    "\n",
    "    # calculate the average loan amount and average applicant income by state\n",
    "    for state_abbr, (total_loan, total_income) in total_loan_income_by_state.items():\n",
    "        # calculate the average loan amount and average applicant income for the state\n",
    "        avg_loan = total_loan / state_abbr_stat[state_abbr]\n",
    "        avg_income = total_income / state_abbr_stat[state_abbr]\n",
    "        avg_loan_income_by_state[state_abbr] = (avg_loan, avg_income)\n",
    "\n",
    "    # calculate the average loan amount and average applicant income of all applicants\n",
    "    avg_loan_income = tuple(\n",
    "        total / sum(state_abbr_stat.values()) for total in total_loan_income)\n",
    "\n",
    "    return avg_loan_income_by_state, avg_loan_income"
   ]
  },
  {
   "cell_type": "markdown",
   "metadata": {},
   "source": [
    "Before moving on to the next subsubtask, please run the cell below to calculate the average loan amount and average applicant income by state.\n"
   ]
  },
  {
   "cell_type": "code",
   "execution_count": 15,
   "metadata": {},
   "outputs": [
    {
     "name": "stdout",
     "output_type": "stream",
     "text": [
      "{'MI': (174.48061748335923, 88.95903848725837), 'ID': (204.99718102999006, 81.51876154830151), 'CA': (433.9338296744148, 141.98648438355534), 'MN': (218.9002780637682, 98.48421197700907), 'NY': (321.27918276645494, 138.3936916469047), 'TX': (232.2427958744869, 111.96134343631785), 'KS': (180.3017556165288, 92.79341076475563), 'FL': (233.0851394856835, 99.28991471859766), 'PA': (195.1844405685157, 98.47593982620613), 'WI': (176.93522391194023, 91.64097964755088), 'MO': (177.35863387594725, 87.75863036766769), 'IA': (161.07091348212603, 87.1462119525188), 'VT': (197.20609498387276, 93.64686909131353), 'NC': (214.12421689580705, 93.98021125104236), 'KY': (167.01862112297937, 82.43068486890958), 'MT': (222.87848735832605, 89.16608544027899), 'IL': (226.53250440795952, 110.63259371207437), 'NE': (173.6738211382114, 90.61735402808574), 'WV': (163.1304069793998, 94.08614625679441), 'CT': (290.37368326118326, 132.698556998557), 'MA': (339.5647812870642, 131.63784531037678), 'UT': (253.60999108148704, 88.81975215921892), 'AR': (161.2170158030136, 82.8335170893054), 'OH': (165.35339825218477, 89.5550861423221), 'CO': (299.579475158653, 104.72598479217883), 'VA': (300.8603457087028, 112.99945287840072), 'GA': (219.10249628636643, 95.98763502357575), 'WA': (326.5326859550895, 112.69284201563839), 'NM': (196.57922935779817, 85.89581651376147), 'SC': (209.0894548778461, 89.68231676915407), 'HI': (460.5989556405749, 126.29909006307517), 'NJ': (306.04437813003204, 135.26939327237002), 'TN': (205.53336777749075, 88.70497796356747), 'RI': (233.51386185491083, 99.20947972013256), 'IN': (160.6665175127295, 81.56255979015585), 'MD': (323.32418234776594, 124.5741972957044), 'AZ': (235.8510465797525, 92.42695246154848), 'MS': (162.60393290264082, 82.63623484075711), 'AK': (268.374595536381, 102.19381066954286), 'OR': (277.7184089307972, 100.44606297079066), 'ND': (203.48076764681656, 97.42805370233094), 'LA': (195.54599502572313, 98.47371469455896), 'SD': (189.22063115032236, 95.4032575500509), 'OK': (169.5935714815639, 87.13213146375844), 'NH': (237.69777729034146, 106.37475323535863), 'AL': (176.91566344492938, 83.671791558433), 'ME': (197.4960753532182, 89.63651042834717), 'NV': (259.99273265779044, 96.40198000795294), 'DE': (229.72026180990323, 91.40967558338076), 'WY': (221.9843250798722, 89.23851837060703)}\n",
      "(257.74129614349056, 106.72898625419029)\n"
     ]
    }
   ],
   "source": [
    "if __name__ == \"__main__\":\n",
    "    # The code in this cell calls the function defined above.\n",
    "    # It gets the average loan amount and average applicant income by state.\n",
    "    # Before proceeding, it is a good idea to run this code to see the average loan amount and average applicant income by state.\n",
    "    avg_loan_income_by_state, avg_loan_income = get_avg_loan_income_by_state(\n",
    "        total_loan_income_by_state,\n",
    "        final_stats[0],\n",
    "        (final_stats[1]['total'], final_stats[2]['total']),\n",
    "    )\n",
    "    # print the average loan amount and average applicant income by state\n",
    "    print(avg_loan_income_by_state)\n",
    "    # print the average loan amount and average applicant income of all applicants\n",
    "    print(avg_loan_income)"
   ]
  },
  {
   "cell_type": "markdown",
   "metadata": {},
   "source": [
    "##### Subsubtask 2.3.3 (2 pts): Find the ratio of the average loan amount and average applicant income by state\n"
   ]
  },
  {
   "cell_type": "markdown",
   "metadata": {},
   "source": [
    "Write a function `get_avg_loan_income_ratio_range` that:\n",
    "\n",
    "- **Input**: a dictionary `avg_loan_income_by_state` representing the average loan amount and average applicant income by state.\n",
    "- **Output**: a dictionary `state_avg_loan_income_ratio` representing the ratio of the average loan amount to the average applicant income by state.\n",
    "  - **key**: a state abbreviation.\n",
    "  - **value**: the ratio of the average loan amount to the average applicant income.\n",
    "\n",
    "Note:\n",
    "\n",
    "- Given a specific applicant, the ratio of the loan amount to the applicant income is a measure of the applicant's financial health. A higher ratio means it is more risky (more likely to a financial failure) for the applicant to take a loan.\n",
    "- When calculating the ratio of the average loan amount to the average applicant income by state, one can multiply the number of applicants to both the numerator and the denominator to get ratio of the total loan amount to total applicant income by state. This measures the financial health of the state as a whole.\n"
   ]
  },
  {
   "cell_type": "code",
   "execution_count": 16,
   "metadata": {},
   "outputs": [],
   "source": [
    "def get_avg_loan_income_ratio_range(avg_loan_income_by_state):\n",
    "    \"\"\"\n",
    "    Get the ratio of the average loan amount and average applicant income by state\n",
    "    IN: avg_loan_income_by_state, dict{str: tuple(float, float)}, the average loan amount and average applicant income by state\n",
    "    OUT: state_avg_loan_income_ratio, dict{str: float}, the ratio of the average loan amount and average applicant income by state\n",
    "    \"\"\"\n",
    "\n",
    "    # initialize the ratio of the average loan amount and average applicant income by state\n",
    "    state_avg_loan_income_ratio = {}\n",
    "\n",
    "    # iterate through the average loan amount and average applicant income by state to calculate the ratio\n",
    "    for state_abbr, (avg_loan, avg_income) in avg_loan_income_by_state.items():\n",
    "        # calculate the ratio of the average loan amount and average applicant income for the state\n",
    "        state_avg_loan_income_ratio[state_abbr] = avg_loan / avg_income\n",
    "\n",
    "    return state_avg_loan_income_ratio"
   ]
  },
  {
   "cell_type": "markdown",
   "metadata": {},
   "source": [
    "Before moving on to the next subtask, please run the cell below to find the ratio of the average loan amount and average applicant income by state.\n"
   ]
  },
  {
   "cell_type": "code",
   "execution_count": 17,
   "metadata": {},
   "outputs": [
    {
     "name": "stdout",
     "output_type": "stream",
     "text": [
      "{'MI': 1.9613590754845012, 'ID': 2.5147239376118966, 'CA': 3.0561629267628545, 'MN': 2.2226941117716414, 'NY': 2.321487193116874, 'TX': 2.074312336262592, 'KS': 1.9430448146110195, 'FL': 2.3475207944964134, 'PA': 1.9820520719374113, 'WI': 1.9307434795266165, 'MO': 2.020982245653759, 'IA': 1.8482835899956818, 'VT': 2.1058482456213277, 'NC': 2.278396845946993, 'KY': 2.0261704896494663, 'MT': 2.499588114223137, 'IL': 2.047610896636114, 'NE': 1.9165624840953015, 'WV': 1.7338408838019483, 'CT': 2.1882203531749096, 'MA': 2.5795376738842513, 'UT': 2.8553332441962227, 'AR': 1.9462775633346643, 'OH': 1.8463875741172648, 'CO': 2.860603084832736, 'VA': 2.662493826695428, 'GA': 2.2826116742281664, 'WA': 2.897545932063516, 'NM': 2.2885774573934454, 'SC': 2.3314457343475063, 'HI': 3.646890531123753, 'NJ': 2.262480600573111, 'TN': 2.317044347408626, 'RI': 2.3537454536970412, 'IN': 1.9698562419582262, 'MD': 2.5954346033656113, 'AZ': 2.551756173913355, 'MS': 1.9677074253925562, 'AK': 2.626133557189736, 'OR': 2.764851112298514, 'ND': 2.0885233761161373, 'LA': 1.9857684421904698, 'SD': 1.983377046124998, 'OK': 1.946395303690055, 'NH': 2.234531879612685, 'AL': 2.1144003271565976, 'ME': 2.203299463683282, 'NV': 2.6969646540075383, 'DE': 2.5130847510815233, 'WY': 2.4875393398842935}\n"
     ]
    }
   ],
   "source": [
    "if __name__ == \"__main__\":\n",
    "    # The code in this cell calls the function defined above.\n",
    "    # It gets the ratio of the average loan amount and average applicant income by state.\n",
    "    # Before proceeding, it is a good idea to run this code to see the ratio of the average loan amount and average applicant income by state.\n",
    "    state_avg_loan_income_ratio = get_avg_loan_income_ratio_range(\n",
    "        avg_loan_income_by_state)\n",
    "    # print the ratio of the average loan amount and average applicant income by\n",
    "    print(state_avg_loan_income_ratio)"
   ]
  },
  {
   "cell_type": "markdown",
   "metadata": {},
   "source": [
    "##### Subsubtask 2.3.4 (4 pts): 2D scatter Plot for the average loan amount and average applicant income by state\n"
   ]
  },
  {
   "cell_type": "markdown",
   "metadata": {},
   "source": [
    "Write a function `plot_avg_loan_income_by_state` that takes four inputs and produces a plot as indicated below. You just need to complete the missing code in the cell containing the string `\"\"\"__Your_Code_Here__\"\"\"`.\n",
    "\n",
    "- **Input 1**: a dictionary `avg_loan_income_by_state` representing the average loan amount and average applicant income by state.\n",
    "- **Input 2**: a dictionary `state_abbr_stat` representing the number of applicants by state.\n",
    "- **Input 3**: a tuple `(avg_loan_amount, avg_applicant_income)` representing the average loan amount and average applicant income for all applicants.\n",
    "- **Input 4**: a dictionary `state_avg_loan_income_ratio` representing the ratio of the average loan amount to the average applicant income by state.\n",
    "- **Plot**: a scatter plot of the average loan amount and average applicant income by state.\n",
    "  - **x-axis**: average loan amount.\n",
    "  - **y-axis**: average applicant income.\n",
    "  - **size**: the number of applicants, where the radius of each circle is proportional to the square root of the number of applicants. You may use some scaling factor to make the circles well sized.\n",
    "  - **color**: the ratio of the average loan amount to the average applicant income, with the colormap set to `copper_r`.\n",
    "  - **vertical line**: the average loan amount for all applicants (in a dashed black line).\n",
    "  - **horizontal line**: the average applicant income for all applicants (in a dashed black line).\n"
   ]
  },
  {
   "cell_type": "markdown",
   "metadata": {},
   "source": [
    "`plt.scatter()` can be used to create a scatter plot. It takes the following arguments:\n",
    "\n",
    "- `x`: a list of numbers representing the x-coordinates of the data points.\n",
    "- `y`: a list of numbers representing the y-coordinates of the data points.\n",
    "- `s`: a list of numbers representing the size (area) of the data points.\n",
    "- `c`: a list of numbers representing the color of the data points.\n",
    "- `cmap`: a string representing the colormap, which determines how the color values `c` are mapped to colors.\n",
    "\n",
    "A typical usage of `plt.scatter()` is as follows:\n",
    "\n",
    "```python\n",
    "\n",
    "# specify the x, y, s, c\n",
    "x_list = [1, 2.5, 0.8, -1.2]\n",
    "y_list = [3, -1.5, 2.8, 0.2]\n",
    "s_list = [100, 400, 800, 200]\n",
    "c_list = [0.1, 0.5, 0.8, 0.2]\n",
    "\n",
    "# create the scatter plot, and specify the colormap\n",
    "plt.scatter(x_list, y_list, s=s_list, c=c_list, cmap='copper_r')\n",
    "\n",
    "# add the colorbar to the plot\n",
    "plt.colorbar()\n",
    "\n",
    "# show the plot\n",
    "plt.show()\n",
    "```\n"
   ]
  },
  {
   "cell_type": "markdown",
   "metadata": {},
   "source": [
    "To add vertical reference lines and horizontal reference lines, you can use `plt.axvline()` and `plt.axhline()`, respectively. For example:\n",
    "\n",
    "- To add a vertical line at x=1.5, with a black dashed line:\n",
    "  ```python\n",
    "  plt.axvline(x=1.5, color='k', linestyle='--')\n",
    "  ```\n",
    "  `x` is the x-coordinate of the vertical line, `color` `k` is short for black, and `linestyle` `--` specifies a dashed line.\n",
    "- To add a horizontal line at y=-0.3, with a black dashed line:\n",
    "  ```python\n",
    "  plt.axhline(y=-0.3, color='k', linestyle='--')\n",
    "  ```\n",
    "  `y` is the y-coordinate of the horizontal line, `color` `k` is short for black, and `linestyle` `--` specifies a dashed line.\n"
   ]
  },
  {
   "cell_type": "code",
   "execution_count": 30,
   "metadata": {},
   "outputs": [],
   "source": [
    "def plot_avg_loan_income_by_state(avg_loan_income_by_state, state_abbr_stat, avg_loan_income, state_avg_loan_income_ratio):\n",
    "    \"\"\"\n",
    "    Plot the average loan amount and average applicant income by state\n",
    "    IN: avg_loan_income_by_state, dict{str: tuple(float, float)}, the average loan amount and average applicant income by state\n",
    "        state_abbr_stat, dict{str: int}, the number of applicants by state\n",
    "        avg_loan_income, tuple(float, float), the average loan amount and average applicant income of all applicants\n",
    "        state_avg_loan_income_ratio, dict{str: float}, the ratio of the average loan amount and average applicant income by state\n",
    "    \"\"\"\n",
    "\n",
    "    # extract the states, average loan amounts, average applicant incomes, sizes, and colors\n",
    "    states = []\n",
    "    avg_loans = []\n",
    "    avg_incomes = []\n",
    "    sizes = []\n",
    "    colors = []\n",
    "\n",
    "    for state_abbr, (avg_loan, avg_income) in avg_loan_income_by_state.items():\n",
    "        states.append(state_abbr)\n",
    "        avg_loans.append(avg_loan)\n",
    "        avg_incomes.append(avg_income)\n",
    "        sizes.append(state_abbr_stat[state_abbr])\n",
    "        colors.append(state_avg_loan_income_ratio[state_abbr])\n",
    "\n",
    "    # normalize the sizes to be between 50 and 1000\n",
    "    min_size, max_size = min(sizes), max(sizes)\n",
    "    sizes = [50 + (s - min_size) / (max_size - min_size) * 950 for s in sizes]\n",
    "\n",
    "    # increase the size of the plot to avoid crowding\n",
    "    plt.figure(figsize=(15, 10))\n",
    "    # use ggplot style. it's gray background, easy for colors to stand out\n",
    "    plt.style.use('ggplot')\n",
    "\n",
    "    # plot the average loan amount and average applicant income by state\n",
    "    plt.scatter(avg_loans, avg_incomes, s=sizes,\n",
    "                c=colors, cmap='coolwarm', alpha=0.6)\n",
    "\n",
    "    # add horizontal and vertical lines for the average loan amount and average applicant income of all applicants\n",
    "    plt.axvline(x=avg_loan_income[0], c='k', ls='--',\n",
    "                lw=1, label='Average Loan Amount of All Applicants')\n",
    "    plt.axhline(y=avg_loan_income[1], c='k', ls='--', lw=1,\n",
    "                label='Average Applicant Income of All Applicants')\n",
    "\n",
    "    # add state names to the plot\n",
    "    for i, state_abbr in enumerate(states):\n",
    "        plt.text(avg_loans[i], avg_incomes[i], state_abbr,\n",
    "                 fontsize=12, c='black', ha='center', va='center')\n",
    "\n",
    "    # add labels, title, and colorbar to the plot\n",
    "    plt.xlabel('Average Loan Amount')\n",
    "    plt.ylabel('Average Applicant Income')\n",
    "    plt.title('Average Loan Amount and Average Applicant Income by State')\n",
    "    plt.colorbar()\n",
    "    plt.show()"
   ]
  },
  {
   "cell_type": "markdown",
   "metadata": {},
   "source": [
    "Before moving on to the next subtask, please run the cell below to plot the 2D scatter plot for the average loan amount and average applicant income by state.\n"
   ]
  },
  {
   "cell_type": "code",
   "execution_count": 31,
   "metadata": {},
   "outputs": [
    {
     "data": {
      "image/png": "[encoded data removed]",
      "text/plain": [
       "<Figure size 1500x1000 with 2 Axes>"
      ]
     },
     "metadata": {},
     "output_type": "display_data"
    }
   ],
   "source": [
    "if __name__ == \"__main__\":\n",
    "    # The code in this cell calls the function defined above.\n",
    "    # It plots the average loan amount and average applicant income by state.\n",
    "    # Before proceeding, it is a good idea to run this code to see the plot.\n",
    "    plot_avg_loan_income_by_state(\n",
    "        avg_loan_income_by_state, final_stats[0], avg_loan_income, state_avg_loan_income_ratio)"
   ]
  },
  {
   "cell_type": "markdown",
   "metadata": {},
   "source": [
    "### Task 3 (15 pts): Creation of a Basic SQL Table from the Loan-Income-State Data\n"
   ]
  },
  {
   "cell_type": "markdown",
   "metadata": {},
   "source": [
    "#### The first step to complete the following tasks is to define two helper functions described below.\n"
   ]
  },
  {
   "cell_type": "markdown",
   "metadata": {},
   "source": [
    "Before moving on to the next subtask, please run the cell below to define the helper functions.\n"
   ]
  },
  {
   "cell_type": "code",
   "execution_count": 20,
   "metadata": {},
   "outputs": [],
   "source": [
    "WAIT_TIME = 10\n",
    "\n",
    "\n",
    "def connect_to_db(db_name):\n",
    "    \"\"\"\n",
    "    Connect to the database\n",
    "    IN: db_name, str, the name of the database in MySQL\n",
    "    OUT: mydb, the database connection\n",
    "    EXCEPTION: TimeoutError, if the database is not running\n",
    "    \"\"\"\n",
    "\n",
    "    num_of_tries = 0\n",
    "    while num_of_tries < WAIT_TIME:\n",
    "        try:\n",
    "            mydb = connect(host=\"127.0.0.1\", user=\"root\", db=db_name)\n",
    "            if mydb.is_connected():\n",
    "                print(\"Connected\")\n",
    "                break\n",
    "        except Error as e:\n",
    "            print(e)\n",
    "\n",
    "        num_of_tries += 1\n",
    "        print(\"Waiting for MySQL to start\")\n",
    "        time.sleep(1)\n",
    "\n",
    "    if num_of_tries >= WAIT_TIME:\n",
    "        raise TimeoutError(\"MySQL is not running\")\n",
    "\n",
    "    return mydb"
   ]
  },
  {
   "cell_type": "code",
   "execution_count": 21,
   "metadata": {},
   "outputs": [],
   "source": [
    "def do_query(cursor, query):\n",
    "    \"\"\"\n",
    "    Execute a query and print the results\n",
    "    IN: cursor, the cursor object\n",
    "        query, str, the query to be executed\n",
    "    OUT: list[tuple], the results of the query\n",
    "    \"\"\"\n",
    "    cursor.execute(query)\n",
    "    res = cursor.fetchall()\n",
    "    print(cursor.column_names)\n",
    "    for row in res:\n",
    "        print(row)\n",
    "    return res"
   ]
  },
  {
   "cell_type": "code",
   "execution_count": 22,
   "metadata": {},
   "outputs": [
    {
     "name": "stdout",
     "output_type": "stream",
     "text": [
      "1045 (28000): Access denied for user 'root'@'localhost' (using password: NO)\n",
      "Waiting for MySQL to start\n",
      "1045 (28000): Access denied for user 'root'@'localhost' (using password: NO)\n",
      "Waiting for MySQL to start\n",
      "1045 (28000): Access denied for user 'root'@'localhost' (using password: NO)\n",
      "Waiting for MySQL to start\n",
      "1045 (28000): Access denied for user 'root'@'localhost' (using password: NO)\n",
      "Waiting for MySQL to start\n",
      "1045 (28000): Access denied for user 'root'@'localhost' (using password: NO)\n",
      "Waiting for MySQL to start\n",
      "1045 (28000): Access denied for user 'root'@'localhost' (using password: NO)\n",
      "Waiting for MySQL to start\n",
      "1045 (28000): Access denied for user 'root'@'localhost' (using password: NO)\n",
      "Waiting for MySQL to start\n",
      "1045 (28000): Access denied for user 'root'@'localhost' (using password: NO)\n",
      "Waiting for MySQL to start\n",
      "1045 (28000): Access denied for user 'root'@'localhost' (using password: NO)\n",
      "Waiting for MySQL to start\n",
      "1045 (28000): Access denied for user 'root'@'localhost' (using password: NO)\n",
      "Waiting for MySQL to start\n"
     ]
    },
    {
     "ename": "TimeoutError",
     "evalue": "MySQL is not running",
     "output_type": "error",
     "traceback": [
      "\u001b[0;31m---------------------------------------------------------------------------\u001b[0m",
      "\u001b[0;31mTimeoutError\u001b[0m                              Traceback (most recent call last)",
      "Cell \u001b[0;32mIn[22], line 3\u001b[0m\n\u001b[1;32m      1\u001b[0m \u001b[38;5;28;01mif\u001b[39;00m \u001b[38;5;18m__name__\u001b[39m \u001b[38;5;241m==\u001b[39m \u001b[38;5;124m\"\u001b[39m\u001b[38;5;124m__main__\u001b[39m\u001b[38;5;124m\"\u001b[39m:\n\u001b[1;32m      2\u001b[0m     database_name \u001b[38;5;241m=\u001b[39m \u001b[38;5;124m\"\u001b[39m\u001b[38;5;124mHMDA\u001b[39m\u001b[38;5;124m\"\u001b[39m  \u001b[38;5;66;03m# change this to your database name\u001b[39;00m\n\u001b[0;32m----> 3\u001b[0m     mydb \u001b[38;5;241m=\u001b[39m \u001b[43mconnect_to_db\u001b[49m\u001b[43m(\u001b[49m\u001b[43mdatabase_name\u001b[49m\u001b[43m)\u001b[49m\n\u001b[1;32m      4\u001b[0m     cursor \u001b[38;5;241m=\u001b[39m mydb\u001b[38;5;241m.\u001b[39mcursor()\n",
      "Cell \u001b[0;32mIn[20], line 27\u001b[0m, in \u001b[0;36mconnect_to_db\u001b[0;34m(db_name)\u001b[0m\n\u001b[1;32m     24\u001b[0m     time\u001b[38;5;241m.\u001b[39msleep(\u001b[38;5;241m1\u001b[39m)\n\u001b[1;32m     26\u001b[0m \u001b[38;5;28;01mif\u001b[39;00m num_of_tries \u001b[38;5;241m>\u001b[39m\u001b[38;5;241m=\u001b[39m WAIT_TIME:\n\u001b[0;32m---> 27\u001b[0m     \u001b[38;5;28;01mraise\u001b[39;00m \u001b[38;5;167;01mTimeoutError\u001b[39;00m(\u001b[38;5;124m\"\u001b[39m\u001b[38;5;124mMySQL is not running\u001b[39m\u001b[38;5;124m\"\u001b[39m)\n\u001b[1;32m     29\u001b[0m \u001b[38;5;28;01mreturn\u001b[39;00m mydb\n",
      "\u001b[0;31mTimeoutError\u001b[0m: MySQL is not running"
     ]
    }
   ],
   "source": [
    "if __name__ == \"__main__\":\n",
    "    database_name = \"HMDA\"  # change this to your database name\n",
    "    mydb = connect_to_db(database_name)\n",
    "    cursor = mydb.cursor()"
   ]
  },
  {
   "cell_type": "markdown",
   "metadata": {},
   "source": [
    "#### Subtask 3.1 (6 pts): Get the specification of an SQL Table schema encoded by a string\n"
   ]
  },
  {
   "cell_type": "markdown",
   "metadata": {},
   "source": [
    "Write a function `get_table_specifications_sql` that takes one input and produces one output as indicated below. You just need to complete the missing code in the cell containing the string `\"\"\"__Your_Code_Here__\"\"\"`.\n",
    "\n",
    "- **INPUT**: a string `table_name` representing the name of the table.\n",
    "- **OUTPUT**: a string `table_specifications_sql` encoding the `CREATE TABLE` statements for the SQL database.\n",
    "\n",
    "Specifically, the schema of the SQL database is as follows:\n",
    "\n",
    "- `id`: an integer primary key, auto-incremented.\n",
    "- `state_abbr`: a string of fixed length 2, and it cannot be null.\n",
    "- `loan_amount`: an integer, and it cannot be null.\n",
    "- `applicant_income`: an integer, and it cannot be null.\n"
   ]
  },
  {
   "cell_type": "code",
   "execution_count": null,
   "metadata": {},
   "outputs": [],
   "source": [
    "def get_table_specifications_sql(table_name):\n",
    "    \"\"\"\n",
    "    Get the create table statements for the SQL database\n",
    "    IN: table_name, str, the name of the table\n",
    "    OUT: table_specifications_sql, str, the create table statements for the SQL database\n",
    "    \"\"\"\n",
    "\n",
    "    table_specifications_sql = f\"\"\"\n",
    "    __Your_Code_Here__\n",
    "    \"\"\"\n",
    "    return table_specifications_sql"
   ]
  },
  {
   "cell_type": "code",
   "execution_count": null,
   "metadata": {},
   "outputs": [],
   "source": [
    "if __name__ == \"__main__\":\n",
    "    table_name = \"applicants\"  # change this to your table name\n",
    "    table_specifications_sql = get_table_specifications_sql(table_name)\n",
    "    print(table_specifications_sql)\n",
    "    do_query(cursor, table_specifications_sql)"
   ]
  },
  {
   "cell_type": "markdown",
   "metadata": {},
   "source": [
    "#### Subtask 3.2 (9 pts): Insert Loan-Income-State data into the SQL Table\n"
   ]
  },
  {
   "cell_type": "markdown",
   "metadata": {},
   "source": [
    "Write a function `insert_data` that takes four inputs and produces one output as indicated below. You just need to complete the missing code in the cell containing the string `\"\"\"__Your_Code_Here__\"\"\"`.\n",
    "\n",
    "- **Input 1**: a connection `mydb` to the SQL database.\n",
    "- **Input 2**: a cursor `cursor` to the SQL database.\n",
    "- **Input 3**: a string `table_name` representing the name of the table.\n",
    "- **Input 4**: a list of tuples `cleaned_data` containing the cleaned data from the CSV file.\n",
    "- **Output**: an integer representing the number of rows inserted into the table.\n",
    "\n",
    "Note: make sure to commit the changes to the database.\n"
   ]
  },
  {
   "cell_type": "code",
   "execution_count": null,
   "metadata": {},
   "outputs": [],
   "source": [
    "def insert_data(mydb, cursor, table_name, cleaned_data):\n",
    "    \"\"\"\n",
    "    Insert the cleaned data into the table\n",
    "    IN: mydb, the database connection\n",
    "        cursor, the cursor object to the database\n",
    "        table_name, str, the name of the table\n",
    "        cleaned_data, list[tuple], the cleaned data\n",
    "    OUT: n_rows_inserted, int, the number of rows inserted into the table\n",
    "    \"\"\"\n",
    "\n",
    "    insert_sql = f\"\"\"\n",
    "    __Your_Code_Here__\n",
    "    \"\"\"\n",
    "\n",
    "    # Insert the data in batches of 10,000 rows to avoid memory errors\n",
    "    n_rows_inserted = 0\n",
    "    for i in range(0, len(cleaned_data), 10_000):\n",
    "        \"\"\"__Your_Code_Here__\"\"\"\n",
    "\n",
    "    return n_rows_inserted"
   ]
  },
  {
   "cell_type": "code",
   "execution_count": null,
   "metadata": {},
   "outputs": [],
   "source": [
    "if __name__ == \"__main__\":\n",
    "    mydb.rollback()\n",
    "    n_rows_inserted = insert_data(mydb, cursor, table_name, cleaned_data)\n",
    "    print(n_rows_inserted)"
   ]
  },
  {
   "cell_type": "markdown",
   "metadata": {},
   "source": [
    "### Task 4 (35 pts): Detection of High-Loan and High-Risk Applicants and Extension of the Basic SQL Table with this Information\n"
   ]
  },
  {
   "cell_type": "markdown",
   "metadata": {},
   "source": [
    "#### Subtask 4.1 (15 pts): Flag high loan applicants\n"
   ]
  },
  {
   "cell_type": "markdown",
   "metadata": {},
   "source": [
    "##### Subsubtask 4.1.1 (4 pts): Add a new column `high_loan_flag` to the SQL Table\n"
   ]
  },
  {
   "cell_type": "markdown",
   "metadata": {},
   "source": [
    "Write a function `get_add_high_loan_flag_sql` that takes one input and produces one output as indicated below. You just need to complete the missing code in the cell containing the string `\"\"\"__Your_Code_Here__\"\"\"`.\n",
    "\n",
    "- **Input**: a string `table_name` representing the name of the table.\n",
    "- **Output**: a string `add_high_loan_flag_sql` encoding the `ALTER TABLE` statement to add a new column `high_loan_flag` to the SQL database.\n",
    "\n",
    "Specifically, the `high_loan_flag` is a boolean column that defaults to False and cannot be null.\n",
    "\n",
    "Hint: You can specify a column as boolean type in MySQL using the `BOOLEAN` keyword.\n"
   ]
  },
  {
   "cell_type": "code",
   "execution_count": null,
   "metadata": {},
   "outputs": [],
   "source": [
    "def get_add_high_loan_flag_sql(table_name):\n",
    "    \"\"\"\n",
    "    Get the alter table statement to add a new column high_loan_flag to the SQL database\n",
    "    IN: table_name, str, the name of the table\n",
    "    OUT: add_high_loan_flag_sql, str, the alter table statement to add a new column high_loan_flag to the SQL database\n",
    "    \"\"\"\n",
    "\n",
    "    return f\"\"\"\n",
    "    __Your_Code_Here__\n",
    "    \"\"\""
   ]
  },
  {
   "cell_type": "code",
   "execution_count": null,
   "metadata": {},
   "outputs": [],
   "source": [
    "if __name__ == \"__main__\":\n",
    "    add_high_loan_flag_sql = get_add_high_loan_flag_sql(table_name)\n",
    "    print(add_high_loan_flag_sql)\n",
    "    do_query(cursor, add_high_loan_flag_sql)\n",
    "    mydb.commit()"
   ]
  },
  {
   "cell_type": "markdown",
   "metadata": {},
   "source": [
    "##### Subsubtask 4.1.2 (7 pts): Update the new column `high_loan` in the SQL Table\n"
   ]
  },
  {
   "cell_type": "markdown",
   "metadata": {},
   "source": [
    "Write a function `get update_high_loan_flag_sql` that takes two inputs and produces one output as indicated below. You just need to complete the missing code in the cell containing the string `\"\"\"__Your_Code_Here__\"\"\"`.\n",
    "\n",
    "- **Input 1**: a string `table_name` representing the name of the table.\n",
    "- **Input 2**: an integer `loan_threshold` representing the threshold for the loan amount to be considered a high loan. The default value is 700.\n",
    "- **Output**: a string `update_high_loan_flag_sql` encoding the `UPDATE` statement to set the `high_loan_flag` to True for rows with a loan amount greater than the threshold.\n",
    "\n",
    "Note: A loan amount is considered a high loan if it is strictly greater than the threshold.\n",
    "\n",
    "Hint: You can use the `UPDATE` statement to set the value of the `high_loan_flag` column to True for rows with a loan amount greater than the threshold.\n",
    "\n",
    "The syntax for the `UPDATE` statement is as follows:\n",
    "\n",
    "```sql\n",
    "UPDATE table_name\n",
    "SET column_name = updated_value\n",
    "WHERE condition;\n",
    "```\n"
   ]
  },
  {
   "cell_type": "code",
   "execution_count": null,
   "metadata": {},
   "outputs": [],
   "source": [
    "def get_update_high_loan_flag_sql(table_name, loan_threshold=700):\n",
    "    \"\"\"\n",
    "    Get the update statement to set the high_loan_flag to True if the loan amount is greater than the threshold\n",
    "    IN: table_name, str, the name of the table\n",
    "        loan_threshold, int, the threshold of the loan amount to be considered as high loan\n",
    "    OUT: update_high_loan_flag_sql, str, the update statement to set the high_loan_flag to True if the loan amount is greater than the threshold\n",
    "    \"\"\"\n",
    "\n",
    "    return f\"\"\"\n",
    "    __Your_Code_Here__\n",
    "    \"\"\""
   ]
  },
  {
   "cell_type": "code",
   "execution_count": null,
   "metadata": {},
   "outputs": [],
   "source": [
    "if __name__ == \"__main__\":\n",
    "    update_high_loan_flag_sql = get_update_high_loan_flag_sql(table_name)\n",
    "    print(update_high_loan_flag_sql)\n",
    "    do_query(cursor, update_high_loan_flag_sql)\n",
    "    mydb.commit()"
   ]
  },
  {
   "cell_type": "markdown",
   "metadata": {},
   "source": [
    "##### Subsubtask 4.1.3 (4 pts): Find the average applicant income of high loan applicants\n"
   ]
  },
  {
   "cell_type": "markdown",
   "metadata": {},
   "source": [
    "Write a function `get_avg_income_high_loan_sql` that takes one input and produces one output as indicated below. You just need to complete the missing code in the cell containing the string `\"\"\"__Your_Code_Here__\"\"\"`.\n",
    "\n",
    "- **Input**: a string `table_name` representing the name of the table.\n",
    "- **Output**: a string `avg_income_high_loan_sql` encoding the SQL query to find the average applicant income of high loan applicants.\n",
    "\n",
    "Hint: Boolean values can be compared using `boolean_column = 1` for True, and `boolean_column = 0` for False.\n"
   ]
  },
  {
   "cell_type": "code",
   "execution_count": null,
   "metadata": {},
   "outputs": [],
   "source": [
    "def get_avg_income_high_loan_sql(table_name):\n",
    "    \"\"\"\n",
    "    Get the query to find the average applicant income of high loan applicants\n",
    "    IN: table_name, str, the name of the table\n",
    "    OUT: avg_income_high_loan_sql, str, the query to find the average applicant income of high loan applicants\n",
    "    \"\"\"\n",
    "\n",
    "    return f\"\"\"\n",
    "    __Your_Code_Here__\n",
    "    \"\"\""
   ]
  },
  {
   "cell_type": "code",
   "execution_count": null,
   "metadata": {},
   "outputs": [],
   "source": [
    "if __name__ == \"__main__\":\n",
    "    avg_income_high_loan_sql = get_avg_income_high_loan_sql(table_name)\n",
    "    print(avg_income_high_loan_sql)\n",
    "    do_query(cursor, avg_income_high_loan_sql)"
   ]
  },
  {
   "cell_type": "markdown",
   "metadata": {},
   "source": [
    "#### Subtask 4.2 (20 pts): Label applicants with a Low/Moderate/High Risk flag\n"
   ]
  },
  {
   "cell_type": "markdown",
   "metadata": {},
   "source": [
    "##### Subsubtask 4.2.1 (4 pts): Add a new column `risk_flag` to the SQL Table\n"
   ]
  },
  {
   "cell_type": "markdown",
   "metadata": {},
   "source": [
    "Write a function `get_add_risk_flag_sql` that takes one input and produces one output as indicated below. You just need to complete the missing code in the cell containing the string `\"\"\"__Your_Code_Here__\"\"\"`.\n",
    "\n",
    "- **Input**: a string `table_name` representing the name of the table.\n",
    "- **Output**: a string `add_risk_flag_sql` encoding the `ALTER TABLE` statement to add a new column `risk_flag` to the SQL database.\n",
    "\n",
    "Specifically, the `risk_flag` is a string column of variable length up to two characters, defaults to \"H\" (High risk), and cannot be null.\n"
   ]
  },
  {
   "cell_type": "code",
   "execution_count": null,
   "metadata": {},
   "outputs": [],
   "source": [
    "\"\"\"\n",
    "Write a function `get_add_risk_flag_sql` that:\n",
    "\n",
    "- **Input**: a string `table_name` representing the name of the table.\n",
    "- **Output**: a string `add_risk_flag_sql` encoding the alter table statement to add a new column `risk_flag` to the SQL database.\n",
    "\n",
    "Specifically, the `risk_flag` is a string column of variable length up to two characters, and it cannot be null.\n",
    "\"\"\"\n",
    "\n",
    "\n",
    "def get_add_risk_flag_sql(table_name):\n",
    "    \"\"\"\n",
    "    Get the alter table statement to add a new column risk_flag to the SQL database\n",
    "    IN: table_name, str, the name of the table\n",
    "    OUT: add_risk_flag_sql, str, the alter table statement to add a new column risk_flag to the SQL database\n",
    "    \"\"\"\n",
    "\n",
    "    return f\"\"\"\n",
    "    __Your_Code_Here__\n",
    "    \"\"\""
   ]
  },
  {
   "cell_type": "code",
   "execution_count": null,
   "metadata": {},
   "outputs": [],
   "source": [
    "if __name__ == \"__main__\":\n",
    "    add_risk_flag_sql = get_add_risk_flag_sql(table_name)\n",
    "    print(add_risk_flag_sql)\n",
    "    do_query(cursor, add_risk_flag_sql)\n",
    "    mydb.commit()"
   ]
  },
  {
   "cell_type": "markdown",
   "metadata": {},
   "source": [
    "##### Subsubtask 4.2.2 (10 pts): Update the new column `risk_flag` in the SQL Table\n"
   ]
  },
  {
   "cell_type": "markdown",
   "metadata": {},
   "source": [
    "Write a function `get_update_risk_flag_sql` that takes two inputs and produces one output as indicated below. You just need to complete the missing code in the cell containing the string `\"\"\"__Your_Code_Here__\"\"\"`.\n",
    "\n",
    "- **Input 1**: a string `table_name` representing the name of the table.\n",
    "- **Input 2**: a pair of integers `(low_mod_threshold, mod_high_threshold)` representing the thresholds for the ratio of the average loan amount to average applicant income, to be considered as \"L\", \"M\", or \"H\". Defaults to (0.4, 0.8).\n",
    "- **Output**: a string `update_risk_flag_sql` encoding the SQL query to update the risk flag of the applicants.\n",
    "\n",
    "Hint: You can use the `CASE` statement in SQL to update the column based on the condition.\n",
    "\n",
    "```sql\n",
    "...\n",
    "CASE\n",
    "    WHEN condition1 THEN value1\n",
    "    WHEN condition2 THEN value2\n",
    "    ...\n",
    "    ELSE default_value\n",
    "END\n",
    "```\n"
   ]
  },
  {
   "cell_type": "code",
   "execution_count": null,
   "metadata": {},
   "outputs": [],
   "source": [
    "def get_update_risk_flag_sql(table_name, low_mod_high_thresholds=(0.4, 0.8)):\n",
    "    \"\"\"\n",
    "    Get the update statement to set the risk_flag based on the ratio of the average loan amount and average applicant income\n",
    "    IN: table_name, str, the name of the table\n",
    "        low_mod_high_thresholds, tuple(float, float), the thresholds of the ratio of the average loan amount and average applicant income to be considered as \"L\"/\"M\"/\"H\"\n",
    "    OUT: update_risk_flag_sql, str, the update statement to set the risk_flag based on the ratio of the average loan amount and average applicant income\n",
    "    \"\"\"\n",
    "\n",
    "    low, mod = low_mod_high_thresholds\n",
    "    return f\"\"\"\n",
    "    __Your_Code_Here__\n",
    "    \"\"\""
   ]
  },
  {
   "cell_type": "code",
   "execution_count": null,
   "metadata": {},
   "outputs": [],
   "source": [
    "if __name__ == \"__main__\":\n",
    "    update_risk_flag_sql = get_update_risk_flag_sql(table_name)\n",
    "    print(update_risk_flag_sql)\n",
    "    do_query(cursor, update_risk_flag_sql)\n",
    "    mydb.commit()"
   ]
  },
  {
   "cell_type": "markdown",
   "metadata": {},
   "source": [
    "##### Subsubtask 4.2.3 (6 pts): Find the percentage of high-risk applicants per state\n"
   ]
  },
  {
   "cell_type": "markdown",
   "metadata": {},
   "source": [
    "Write a function `get_high_risk_percentage_sql` that takes one input and produces one output as indicated below. You just need to complete the missing code in the cell containing the string `\"\"\"__Your_Code_Here__\"\"\"`.\n",
    "\n",
    "- **Input**: a string `table_name` representing the name of the table.\n",
    "- **Output**: a string `high_risk_percentage_sql` encoding the SQL query to find the percentage of high-risk applicants per state.\n",
    "\n",
    "Note: the percentage of high-risk applicants is the number of high-risk applicants divided by the total number of applicants per state.\n",
    "\n",
    "The SQL query should return a table with the following columns:\n",
    "\n",
    "- `state_abbr`: the state abbreviation.\n",
    "- `high_risk_percentage`: as two decimal floating-point numbers. For example, 0.25 represents 25%.\n",
    "\n",
    "Hint: You may need to nest the `SELECT` statement in the `FROM` clause to calculate the total number of applicants per state.\n",
    "\n",
    "```sql\n",
    "SELECT temp_table.state_abbr, ...\n",
    "FROM (\n",
    "    SELECT ...\n",
    "    FROM table_name\n",
    ") AS temp_table\n",
    "```\n"
   ]
  },
  {
   "cell_type": "code",
   "execution_count": null,
   "metadata": {},
   "outputs": [],
   "source": [
    "\"\"\"\n",
    "Write a function `get_high_risk_percentage_sql` that:\n",
    "\n",
    "- **Input**: a string `table_name` representing the name of the table.\n",
    "- **Output**: a string `high_risk_percentage_sql` encoding the SQL query to find the percentage of high-risk applicants per state.\n",
    "\n",
    "Note: the percentage of high-risk applicants is the number of high-risk applicants divided by the total number of applicants per state.\n",
    "\n",
    "The SQL query should return a table with the following columns:\n",
    "\n",
    "- `state_abbr`: the state abbreviation.\n",
    "- `high_risk_percentage`: as integer representing the percentage of high-risk applicants.\n",
    "\"\"\"\n",
    "\n",
    "\n",
    "def get_high_risk_percentage_sql(table_name):\n",
    "    \"\"\"\n",
    "    Get the query to find the percentage of high-risk applicants per state\n",
    "    IN: table_name, str, the name of the table\n",
    "    OUT: high_risk_percentage_sql, str, the query to find the percentage of high-risk applicants per state\n",
    "    \"\"\"\n",
    "\n",
    "    return f\"\"\"\n",
    "    __Your_Code_Here__\n",
    "    \"\"\""
   ]
  },
  {
   "cell_type": "code",
   "execution_count": null,
   "metadata": {},
   "outputs": [],
   "source": [
    "if __name__ == \"__main__\":\n",
    "    high_risk_percentage_sql = get_high_risk_percentage_sql(table_name)\n",
    "    print(high_risk_percentage_sql)\n",
    "    high_risk_percentage = do_query(cursor, high_risk_percentage_sql)"
   ]
  },
  {
   "cell_type": "markdown",
   "metadata": {},
   "source": [
    "### Task 5 (5 pts): Creation of a Scatter Plot of High-Risk States (average income versus average loan amount)\n"
   ]
  },
  {
   "cell_type": "markdown",
   "metadata": {},
   "source": [
    "Write a function `plot_high_risk_percentage` that takes four inputs and produces a plot as indicated below. You just need to complete the missing code in the cell containing the string `\"\"\"__Your_Code_Here__\"\"\"`.\n",
    "\n",
    "- **Input 1**: a dictionary `avg_loan_income_by_state` representing the average loan amount and average applicant income by state.\n",
    "- **Input 2**: a dictionary `state_abbr_stat` representing the number of applicants by state.\n",
    "- **Input 3**: a tuple `(avg_loan_amount, avg_applicant_income)` representing the average loan amount and average applicant income for all applicants.\n",
    "- **Input 4**: a list of tuples `high_risk_percentage` representing the percentage of high-risk applicants per state.\n",
    "- **Plot**: a scatter plot of the average loan amount and average applicant income by state.\n",
    "  - **x-axis**: average loan amount.\n",
    "  - **y-axis**: average applicant income.\n",
    "  - **size**: the number of applicants, where the radius of each circle is proportional to the square root of the number of applicants. You may use some scaling factor to make the circles well sized.\n",
    "  - **color**: the percentage of high-risk applicants per state, with the colormap set to `copper_r`.\n",
    "  - **vertical line**: the average loan amount for all applicants (in a dashed black line).\n",
    "  - **horizontal line**: the average applicant income for all applicants (in a dashed black line).\n"
   ]
  },
  {
   "cell_type": "code",
   "execution_count": null,
   "metadata": {},
   "outputs": [],
   "source": [
    "def plot_high_risk_percentage(avg_loan_income_by_state, state_abbr_stat, avg_loan_income, high_risk_percentage):\n",
    "    \"\"\"\n",
    "    Plot the percentage of high-risk applicants per state\n",
    "    IN: avg_loan_income_by_state, dict{str: tuple(float, float)}, the average loan amount and average applicant income by state\n",
    "        state_abbr_stat, dict{str: int}, the number of applicants by state\n",
    "        avg_loan_income, tuple(float, float), the average loan amount and average applicant income for all applicants\n",
    "        high_risk_percentage, list[tuple(str, float)], the percentage of high-risk applicants per state\n",
    "    \"\"\"\n",
    "\n",
    "    # convert the high_risk_percentage to a dictionary\n",
    "    \"\"\"__Your_Code_Here__\"\"\"\n",
    "\n",
    "    # extract the states, average loan amounts, average applicant incomes, sizes, and colors\n",
    "    states = []\n",
    "    avg_loans = []\n",
    "    avg_incomes = []\n",
    "    sizes = []\n",
    "    colors = []\n",
    "\n",
    "    \"\"\"__Your_Code_Here__\"\"\"\n",
    "\n",
    "    # increase the size of the plot to avoid crowding\n",
    "    plt.figure(figsize=(15, 10))\n",
    "    # use ggplot style. it's gray background, easy for colors to stand out\n",
    "    plt.style.use('ggplot')\n",
    "\n",
    "    # plot the average loan amount and average applicant income by state\n",
    "    \"\"\"__Your_Code_Here__\"\"\"\n",
    "    # add horizontal and vertical lines for the average loan amount and average applicant income of all applicants\n",
    "    \"\"\"__Your_Code_Here__\"\"\"\n",
    "\n",
    "    # add state names to the plot\n",
    "    for i, state_abbr in enumerate(states):\n",
    "        plt.text(avg_loans[i], avg_incomes[i], state_abbr,\n",
    "                 fontsize=12, c='white', ha='center', va='center')\n",
    "\n",
    "    # add labels, title, and colorbar to the plot\n",
    "    plt.xlabel('Average Loan Amount')\n",
    "    plt.ylabel('Average Applicant Income')\n",
    "    plt.title('Average Loan Amount and Average Applicant Income by State')\n",
    "    plt.colorbar()\n",
    "    plt.show()"
   ]
  },
  {
   "cell_type": "markdown",
   "metadata": {},
   "source": [
    "### Note: Do not forget to close the connection to the database.\n"
   ]
  },
  {
   "cell_type": "code",
   "execution_count": null,
   "metadata": {},
   "outputs": [],
   "source": [
    "if __name__ == \"__main__\":\n",
    "    cursor.close()\n",
    "    mydb.close()"
   ]
  }
 ],
 "metadata": {
  "kernelspec": {
   "display_name": "Python 3",
   "language": "python",
   "name": "python3"
  },
  "language_info": {
   "codemirror_mode": {
    "name": "ipython",
    "version": 3
   },
   "file_extension": ".py",
   "mimetype": "text/x-python",
   "name": "python",
   "nbconvert_exporter": "python",
   "pygments_lexer": "ipython3",
   "version": "3.11.7"
  }
 },
 "nbformat": 4,
 "nbformat_minor": 2
}
